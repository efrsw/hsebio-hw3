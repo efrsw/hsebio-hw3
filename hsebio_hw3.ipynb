{
  "nbformat": 4,
  "nbformat_minor": 0,
  "metadata": {
    "colab": {
      "provenance": [],
      "include_colab_link": true
    },
    "kernelspec": {
      "name": "python3",
      "display_name": "Python 3"
    },
    "language_info": {
      "name": "python"
    }
  },
  "cells": [
    {
      "cell_type": "markdown",
      "metadata": {
        "id": "view-in-github",
        "colab_type": "text"
      },
      "source": [
        "<a href=\"https://colab.research.google.com/github/efrsw/hsebio-hw3/blob/testing/hsebio_hw3.ipynb\" target=\"_parent\"><img src=\"https://colab.research.google.com/assets/colab-badge.svg\" alt=\"Open In Colab\"/></a>"
      ]
    },
    {
      "cell_type": "markdown",
      "source": [
        "### Загрузка данных"
      ],
      "metadata": {
        "id": "R25qwtEyVx2z"
      }
    },
    {
      "cell_type": "code",
      "execution_count": 1,
      "metadata": {
        "id": "h06a6zdDVv1i",
        "colab": {
          "base_uri": "https://localhost:8080/"
        },
        "outputId": "febae2f4-ba38-46d9-e0c8-ea5deb09d5e2"
      },
      "outputs": [
        {
          "output_type": "stream",
          "name": "stdout",
          "text": [
            "--2022-10-11 15:16:39--  https://ftp.ncbi.nlm.nih.gov/genomes/all/GCF/000/355/675/GCF_000355675.1_ASM35567v1/GCF_000355675.1_ASM35567v1_genomic.fna.gz\n",
            "Resolving ftp.ncbi.nlm.nih.gov (ftp.ncbi.nlm.nih.gov)... 130.14.250.12, 130.14.250.10, 2607:f220:41f:250::228, ...\n",
            "Connecting to ftp.ncbi.nlm.nih.gov (ftp.ncbi.nlm.nih.gov)|130.14.250.12|:443... connected.\n",
            "HTTP request sent, awaiting response... 200 OK\n",
            "Length: 1168222 (1.1M) [application/x-gzip]\n",
            "Saving to: ‘GCF_000355675.1_ASM35567v1_genomic.fna.gz’\n",
            "\n",
            "GCF_000355675.1_ASM 100%[===================>]   1.11M   926KB/s    in 1.2s    \n",
            "\n",
            "2022-10-11 15:16:41 (926 KB/s) - ‘GCF_000355675.1_ASM35567v1_genomic.fna.gz’ saved [1168222/1168222]\n",
            "\n"
          ]
        }
      ],
      "source": [
        "import gzip\n",
        "\n",
        "!wget 'https://ftp.ncbi.nlm.nih.gov/genomes/all/GCF/000/355/675/GCF_000355675.1_ASM35567v1/GCF_000355675.1_ASM35567v1_genomic.fna.gz'\n",
        "!gunzip GCF_000355675.1_ASM35567v1_genomic.fna.gz"
      ]
    }
  ]
}