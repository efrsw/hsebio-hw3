{
  "nbformat": 4,
  "nbformat_minor": 0,
  "metadata": {
    "colab": {
      "provenance": [],
      "include_colab_link": true
    },
    "kernelspec": {
      "name": "python3",
      "display_name": "Python 3"
    },
    "language_info": {
      "name": "python"
    }
  },
  "cells": [
    {
      "cell_type": "markdown",
      "metadata": {
        "id": "view-in-github",
        "colab_type": "text"
      },
      "source": [
        "<a href=\"https://colab.research.google.com/github/efrsw/hsebio-hw3/blob/naive-bayes/hsebio_hw3.ipynb\" target=\"_parent\"><img src=\"https://colab.research.google.com/assets/colab-badge.svg\" alt=\"Open In Colab\"/></a>"
      ]
    },
    {
      "cell_type": "markdown",
      "source": [
        "### Загрузка данных"
      ],
      "metadata": {
        "id": "R25qwtEyVx2z"
      }
    },
    {
      "cell_type": "markdown",
      "source": [
        "Гайд по скачиванию:\n",
        "https://www.metagenomics.wiki/tools/fastq/ncbi-ftp-genome-download"
      ],
      "metadata": {
        "id": "P1AqeOAbn61s"
      }
    },
    {
      "cell_type": "code",
      "execution_count": 1,
      "metadata": {
        "id": "h06a6zdDVv1i",
        "colab": {
          "base_uri": "https://localhost:8080/"
        },
        "outputId": "68cd2038-bab5-482f-d735-864b4e281295"
      },
      "outputs": [
        {
          "output_type": "stream",
          "name": "stdout",
          "text": [
            "--2022-10-20 09:03:24--  https://ftp.ncbi.nlm.nih.gov/genomes/all/GCF/000/355/675/GCF_000355675.1_ASM35567v1/GCF_000355675.1_ASM35567v1_genomic.fna.gz\n",
            "Resolving ftp.ncbi.nlm.nih.gov (ftp.ncbi.nlm.nih.gov)... 165.112.9.228, 130.14.250.12, 2607:f220:41e:250::13, ...\n",
            "Connecting to ftp.ncbi.nlm.nih.gov (ftp.ncbi.nlm.nih.gov)|165.112.9.228|:443... connected.\n",
            "HTTP request sent, awaiting response... 200 OK\n",
            "Length: 1168222 (1.1M) [application/x-gzip]\n",
            "Saving to: ‘GCF_000355675.1_ASM35567v1_genomic.fna.gz’\n",
            "\n",
            "GCF_000355675.1_ASM 100%[===================>]   1.11M  1.02MB/s    in 1.1s    \n",
            "\n",
            "2022-10-20 09:03:26 (1.02 MB/s) - ‘GCF_000355675.1_ASM35567v1_genomic.fna.gz’ saved [1168222/1168222]\n",
            "\n",
            "--2022-10-20 09:03:26--  https://ftp.ncbi.nlm.nih.gov/genomes/all/GCF/000/355/675/GCF_000355675.1_ASM35567v1/GCF_000355675.1_ASM35567v1_genomic.gbff.gz\n",
            "Resolving ftp.ncbi.nlm.nih.gov (ftp.ncbi.nlm.nih.gov)... 165.112.9.228, 130.14.250.12, 2607:f220:41e:250::13, ...\n",
            "Connecting to ftp.ncbi.nlm.nih.gov (ftp.ncbi.nlm.nih.gov)|165.112.9.228|:443... connected.\n",
            "HTTP request sent, awaiting response... 200 OK\n",
            "Length: 2796038 (2.7M) [application/x-gzip]\n",
            "Saving to: ‘GCF_000355675.1_ASM35567v1_genomic.gbff.gz’\n",
            "\n",
            "GCF_000355675.1_ASM 100%[===================>]   2.67M  2.09MB/s    in 1.3s    \n",
            "\n",
            "2022-10-20 09:03:28 (2.09 MB/s) - ‘GCF_000355675.1_ASM35567v1_genomic.gbff.gz’ saved [2796038/2796038]\n",
            "\n"
          ]
        }
      ],
      "source": [
        "import gzip\n",
        "\n",
        "!wget 'https://ftp.ncbi.nlm.nih.gov/genomes/all/GCF/000/355/675/GCF_000355675.1_ASM35567v1/GCF_000355675.1_ASM35567v1_genomic.fna.gz'\n",
        "!wget 'https://ftp.ncbi.nlm.nih.gov/genomes/all/GCF/000/355/675/GCF_000355675.1_ASM35567v1/GCF_000355675.1_ASM35567v1_genomic.gbff.gz'\n",
        "\n",
        "!gunzip GCF_000355675.1_ASM35567v1_genomic.fna.gz\n",
        "!gunzip GCF_000355675.1_ASM35567v1_genomic.gbff.gz"
      ]
    },
    {
      "cell_type": "markdown",
      "source": [
        "### Reading sequences"
      ],
      "metadata": {
        "id": "PRI3rBPwsAnG"
      }
    },
    {
      "cell_type": "code",
      "source": [
        "!pip install bio"
      ],
      "metadata": {
        "colab": {
          "base_uri": "https://localhost:8080/"
        },
        "id": "DhTpHAOFsij8",
        "outputId": "cba05564-4d87-4ea4-da8e-ccf6be00b1ab"
      },
      "execution_count": 2,
      "outputs": [
        {
          "output_type": "stream",
          "name": "stdout",
          "text": [
            "Looking in indexes: https://pypi.org/simple, https://us-python.pkg.dev/colab-wheels/public/simple/\n",
            "Collecting bio\n",
            "  Downloading bio-1.4.0-py3-none-any.whl (270 kB)\n",
            "\u001b[K     |████████████████████████████████| 270 kB 4.5 MB/s \n",
            "\u001b[?25hCollecting biopython>=1.79\n",
            "  Downloading biopython-1.79-cp37-cp37m-manylinux_2_17_x86_64.manylinux2014_x86_64.whl (2.6 MB)\n",
            "\u001b[K     |████████████████████████████████| 2.6 MB 36.3 MB/s \n",
            "\u001b[?25hRequirement already satisfied: requests in /usr/local/lib/python3.7/dist-packages (from bio) (2.23.0)\n",
            "Requirement already satisfied: tqdm in /usr/local/lib/python3.7/dist-packages (from bio) (4.64.1)\n",
            "Collecting mygene\n",
            "  Downloading mygene-3.2.2-py2.py3-none-any.whl (5.4 kB)\n",
            "Requirement already satisfied: numpy in /usr/local/lib/python3.7/dist-packages (from biopython>=1.79->bio) (1.21.6)\n",
            "Collecting biothings-client>=0.2.6\n",
            "  Downloading biothings_client-0.2.6-py2.py3-none-any.whl (37 kB)\n",
            "Requirement already satisfied: certifi>=2017.4.17 in /usr/local/lib/python3.7/dist-packages (from requests->bio) (2022.9.24)\n",
            "Requirement already satisfied: chardet<4,>=3.0.2 in /usr/local/lib/python3.7/dist-packages (from requests->bio) (3.0.4)\n",
            "Requirement already satisfied: urllib3!=1.25.0,!=1.25.1,<1.26,>=1.21.1 in /usr/local/lib/python3.7/dist-packages (from requests->bio) (1.24.3)\n",
            "Requirement already satisfied: idna<3,>=2.5 in /usr/local/lib/python3.7/dist-packages (from requests->bio) (2.10)\n",
            "Installing collected packages: biothings-client, mygene, biopython, bio\n",
            "Successfully installed bio-1.4.0 biopython-1.79 biothings-client-0.2.6 mygene-3.2.2\n"
          ]
        }
      ]
    },
    {
      "cell_type": "code",
      "source": [
        "from Bio import SeqIO\n",
        "import numpy as np\n",
        "import pandas as pd\n",
        "from itertools import product\n",
        "import matplotlib.pyplot as plt\n",
        "\n",
        "seq = None\n",
        "gb = None\n",
        "\n",
        "# считываем скачанные файлы\n",
        "for record in SeqIO.parse(\"/content/GCF_000355675.1_ASM35567v1_genomic.fna\", \"fasta\"):\n",
        "    seq = record.seq\n",
        "\n",
        "for record in SeqIO.parse('/content/GCF_000355675.1_ASM35567v1_genomic.gbff', 'genbank'):\n",
        "  gb = record"
      ],
      "metadata": {
        "id": "Hdfqxf6GsU2f"
      },
      "execution_count": 3,
      "outputs": []
    },
    {
      "cell_type": "code",
      "source": [
        "start, end = gb.features[0].location.start, None\n",
        "\n",
        "ncod = []\n",
        "cod = []\n",
        "\n",
        "# записываем кодирующие и некодирующие последовательности\n",
        "for i in range(len(gb.features)):\n",
        "  feature = gb.features[i]\n",
        "  fseq = feature.extract(seq)\n",
        "\n",
        "  end = feature.location.start\n",
        "\n",
        "  if feature.type == 'CDS' and fseq[:3] == 'ATG' and len(fseq) % 3 == 0:\n",
        "    cod.append(fseq.__str__())\n",
        "\n",
        "    if len(seq[start:end]) != 0:\n",
        "      ncod.append(seq[start:end].__str__())\n",
        "\n",
        "    start = feature.location.end"
      ],
      "metadata": {
        "id": "sH7bFKCUivKk"
      },
      "execution_count": 4,
      "outputs": []
    },
    {
      "cell_type": "markdown",
      "source": [
        "### Initial probabilities"
      ],
      "metadata": {
        "id": "edXl5ImIzxzu"
      }
    },
    {
      "cell_type": "code",
      "source": [
        "def seq_probs(seq):\n",
        "  return np.array([\n",
        "      seq.count('T'), seq.count('C'), \n",
        "      seq.count('A'), seq.count('G')\n",
        "    ]) / len(seq)\n",
        "\n",
        "def cod_probs(seq):\n",
        "  res = []\n",
        "  for i in range(3):\n",
        "    res.append(seq_probs(seq[i::3]))\n",
        "  return np.array(res)\n",
        "\n",
        "def make_table1(cod_seqs, ncod_seqs):\n",
        "  table1 = pd.DataFrame(np.vstack((cod_probs(''.join(cod_seqs)), seq_probs(''.join(ncod_seqs)))).T, \n",
        "                       index=['T', 'C', 'A', 'G'], \n",
        "                       columns=[f'pos{i}' for i in range(1, 4)] + ['nc'])\n",
        "  return table1"
      ],
      "metadata": {
        "id": "Oa8Kgj4fuQwo"
      },
      "execution_count": 7,
      "outputs": []
    },
    {
      "cell_type": "code",
      "source": [
        "t1 = make_table1(cod, ncod)\n",
        "t1"
      ],
      "metadata": {
        "id": "vZeDJBqfzTJf",
        "outputId": "a7a0466a-da90-4817-98a8-ec93d5a20d95",
        "colab": {
          "base_uri": "https://localhost:8080/",
          "height": 175
        }
      },
      "execution_count": 8,
      "outputs": [
        {
          "output_type": "execute_result",
          "data": {
            "text/plain": [
              "       pos1      pos2      pos3        nc\n",
              "T  0.181203  0.296080  0.314970  0.272901\n",
              "C  0.206748  0.226955  0.233379  0.228714\n",
              "A  0.256854  0.302191  0.238267  0.276767\n",
              "G  0.355196  0.174773  0.213384  0.221619"
            ],
            "text/html": [
              "\n",
              "  <div id=\"df-1960e20c-949c-4010-adea-a42210b81569\">\n",
              "    <div class=\"colab-df-container\">\n",
              "      <div>\n",
              "<style scoped>\n",
              "    .dataframe tbody tr th:only-of-type {\n",
              "        vertical-align: middle;\n",
              "    }\n",
              "\n",
              "    .dataframe tbody tr th {\n",
              "        vertical-align: top;\n",
              "    }\n",
              "\n",
              "    .dataframe thead th {\n",
              "        text-align: right;\n",
              "    }\n",
              "</style>\n",
              "<table border=\"1\" class=\"dataframe\">\n",
              "  <thead>\n",
              "    <tr style=\"text-align: right;\">\n",
              "      <th></th>\n",
              "      <th>pos1</th>\n",
              "      <th>pos2</th>\n",
              "      <th>pos3</th>\n",
              "      <th>nc</th>\n",
              "    </tr>\n",
              "  </thead>\n",
              "  <tbody>\n",
              "    <tr>\n",
              "      <th>T</th>\n",
              "      <td>0.181203</td>\n",
              "      <td>0.296080</td>\n",
              "      <td>0.314970</td>\n",
              "      <td>0.272901</td>\n",
              "    </tr>\n",
              "    <tr>\n",
              "      <th>C</th>\n",
              "      <td>0.206748</td>\n",
              "      <td>0.226955</td>\n",
              "      <td>0.233379</td>\n",
              "      <td>0.228714</td>\n",
              "    </tr>\n",
              "    <tr>\n",
              "      <th>A</th>\n",
              "      <td>0.256854</td>\n",
              "      <td>0.302191</td>\n",
              "      <td>0.238267</td>\n",
              "      <td>0.276767</td>\n",
              "    </tr>\n",
              "    <tr>\n",
              "      <th>G</th>\n",
              "      <td>0.355196</td>\n",
              "      <td>0.174773</td>\n",
              "      <td>0.213384</td>\n",
              "      <td>0.221619</td>\n",
              "    </tr>\n",
              "  </tbody>\n",
              "</table>\n",
              "</div>\n",
              "      <button class=\"colab-df-convert\" onclick=\"convertToInteractive('df-1960e20c-949c-4010-adea-a42210b81569')\"\n",
              "              title=\"Convert this dataframe to an interactive table.\"\n",
              "              style=\"display:none;\">\n",
              "        \n",
              "  <svg xmlns=\"http://www.w3.org/2000/svg\" height=\"24px\"viewBox=\"0 0 24 24\"\n",
              "       width=\"24px\">\n",
              "    <path d=\"M0 0h24v24H0V0z\" fill=\"none\"/>\n",
              "    <path d=\"M18.56 5.44l.94 2.06.94-2.06 2.06-.94-2.06-.94-.94-2.06-.94 2.06-2.06.94zm-11 1L8.5 8.5l.94-2.06 2.06-.94-2.06-.94L8.5 2.5l-.94 2.06-2.06.94zm10 10l.94 2.06.94-2.06 2.06-.94-2.06-.94-.94-2.06-.94 2.06-2.06.94z\"/><path d=\"M17.41 7.96l-1.37-1.37c-.4-.4-.92-.59-1.43-.59-.52 0-1.04.2-1.43.59L10.3 9.45l-7.72 7.72c-.78.78-.78 2.05 0 2.83L4 21.41c.39.39.9.59 1.41.59.51 0 1.02-.2 1.41-.59l7.78-7.78 2.81-2.81c.8-.78.8-2.07 0-2.86zM5.41 20L4 18.59l7.72-7.72 1.47 1.35L5.41 20z\"/>\n",
              "  </svg>\n",
              "      </button>\n",
              "      \n",
              "  <style>\n",
              "    .colab-df-container {\n",
              "      display:flex;\n",
              "      flex-wrap:wrap;\n",
              "      gap: 12px;\n",
              "    }\n",
              "\n",
              "    .colab-df-convert {\n",
              "      background-color: #E8F0FE;\n",
              "      border: none;\n",
              "      border-radius: 50%;\n",
              "      cursor: pointer;\n",
              "      display: none;\n",
              "      fill: #1967D2;\n",
              "      height: 32px;\n",
              "      padding: 0 0 0 0;\n",
              "      width: 32px;\n",
              "    }\n",
              "\n",
              "    .colab-df-convert:hover {\n",
              "      background-color: #E2EBFA;\n",
              "      box-shadow: 0px 1px 2px rgba(60, 64, 67, 0.3), 0px 1px 3px 1px rgba(60, 64, 67, 0.15);\n",
              "      fill: #174EA6;\n",
              "    }\n",
              "\n",
              "    [theme=dark] .colab-df-convert {\n",
              "      background-color: #3B4455;\n",
              "      fill: #D2E3FC;\n",
              "    }\n",
              "\n",
              "    [theme=dark] .colab-df-convert:hover {\n",
              "      background-color: #434B5C;\n",
              "      box-shadow: 0px 1px 3px 1px rgba(0, 0, 0, 0.15);\n",
              "      filter: drop-shadow(0px 1px 2px rgba(0, 0, 0, 0.3));\n",
              "      fill: #FFFFFF;\n",
              "    }\n",
              "  </style>\n",
              "\n",
              "      <script>\n",
              "        const buttonEl =\n",
              "          document.querySelector('#df-1960e20c-949c-4010-adea-a42210b81569 button.colab-df-convert');\n",
              "        buttonEl.style.display =\n",
              "          google.colab.kernel.accessAllowed ? 'block' : 'none';\n",
              "\n",
              "        async function convertToInteractive(key) {\n",
              "          const element = document.querySelector('#df-1960e20c-949c-4010-adea-a42210b81569');\n",
              "          const dataTable =\n",
              "            await google.colab.kernel.invokeFunction('convertToInteractive',\n",
              "                                                     [key], {});\n",
              "          if (!dataTable) return;\n",
              "\n",
              "          const docLinkHtml = 'Like what you see? Visit the ' +\n",
              "            '<a target=\"_blank\" href=https://colab.research.google.com/notebooks/data_table.ipynb>data table notebook</a>'\n",
              "            + ' to learn more about interactive tables.';\n",
              "          element.innerHTML = '';\n",
              "          dataTable['output_type'] = 'display_data';\n",
              "          await google.colab.output.renderOutput(dataTable, element);\n",
              "          const docLink = document.createElement('div');\n",
              "          docLink.innerHTML = docLinkHtml;\n",
              "          element.appendChild(docLink);\n",
              "        }\n",
              "      </script>\n",
              "    </div>\n",
              "  </div>\n",
              "  "
            ]
          },
          "metadata": {},
          "execution_count": 8
        }
      ]
    },
    {
      "cell_type": "markdown",
      "source": [
        "### Transition probabilities"
      ],
      "metadata": {
        "id": "m5ZdGrC3z2gv"
      }
    },
    {
      "cell_type": "code",
      "source": [
        "def cod_dprobs(seqs):\n",
        "  dcounts = dict(\n",
        "    zip([1, 2, 3], \n",
        "        [dict(zip([''.join(pair) for pair in product('TCAG', repeat=2)],\n",
        "                  [0] * 16)) for i in range(3)])\n",
        "    )\n",
        "  for seq in seqs:\n",
        "    for i in range(1, len(seq)):\n",
        "      dcounts[i % 3 + 1][seq[i-1:i+1]] += 1\n",
        "  return get_probs(dcounts)\n",
        "\n",
        "def ncod_dprobs(seqs):\n",
        "    dcounts =dict(zip([''.join(pair) for pair in product('TCAG', repeat=2)],\n",
        "                    [0] * 16))\n",
        "    for seq in seqs:\n",
        "      for i in range(1, len(seq)):\n",
        "        dcounts[seq[i-1:i+1]] += 1\n",
        "        \n",
        "    return get_probs({0: dcounts})[0]\n",
        "\n",
        "def get_probs(dcounts):\n",
        "  for pos in dcounts:\n",
        "    nuc_groups = dict(zip('TCAG', [0] * 4))\n",
        "    for dup in dcounts[pos]:\n",
        "      nuc_groups[dup[0]] += dcounts[pos][dup]\n",
        "    for dup in dcounts[pos]:\n",
        "      dcounts[pos][dup] /= nuc_groups[dup[0]]\n",
        "  return dcounts\n",
        "\n",
        "def make_table2(cod_seqs, ncod_seqs):\n",
        "  table2 = pd.DataFrame(cod_dprobs(cod_seqs))\n",
        "  table2[4] = pd.Series(ncod_dprobs(ncod_seqs))\n",
        "  table2.rename(columns=dict(zip(np.arange(1, 5), \n",
        "                                 [f'pos{i}' for i in range(1, 4)] + ['nc'])),\n",
        "                inplace=True)\n",
        "  table2.index = [prob_notation(idx) for idx in table2.index.values]\n",
        "  return table2\n",
        "\n",
        "def prob_notation(st):\n",
        "  return st[1] + '|' + st[0]"
      ],
      "metadata": {
        "id": "PXMExJTij5zi"
      },
      "execution_count": 9,
      "outputs": []
    },
    {
      "cell_type": "code",
      "source": [
        "t2 = make_table2(cod, ncod)\n",
        "t2"
      ],
      "metadata": {
        "id": "fuFE8M1gyeL4",
        "outputId": "e4ccb8a7-e435-48c2-d1d2-ee61357f7d38",
        "colab": {
          "base_uri": "https://localhost:8080/",
          "height": 551
        }
      },
      "execution_count": 10,
      "outputs": [
        {
          "output_type": "execute_result",
          "data": {
            "text/plain": [
              "         pos1      pos2      pos3        nc\n",
              "T|T  0.185541  0.498016  0.316087  0.318294\n",
              "C|T  0.189713  0.199146  0.180139  0.208396\n",
              "A|T  0.249076  0.172641  0.221208  0.244180\n",
              "G|T  0.375670  0.130197  0.282566  0.229130\n",
              "T|C  0.185250  0.248514  0.269667  0.252617\n",
              "C|C  0.156196  0.198164  0.244435  0.213797\n",
              "A|C  0.276236  0.315008  0.244359  0.286844\n",
              "G|C  0.382318  0.238314  0.241540  0.246742\n",
              "T|A  0.180048  0.334056  0.307936  0.269508\n",
              "C|A  0.194071  0.213889  0.193709  0.205264\n",
              "A|A  0.262876  0.327849  0.330772  0.320696\n",
              "G|A  0.363005  0.124206  0.167584  0.204531\n",
              "T|G  0.174164  0.193288  0.384069  0.242311\n",
              "C|G  0.304287  0.267349  0.377809  0.299724\n",
              "A|G  0.230045  0.342267  0.099310  0.251184\n",
              "G|G  0.291504  0.197095  0.138812  0.206781"
            ],
            "text/html": [
              "\n",
              "  <div id=\"df-d70fe02b-0251-4ce2-85b0-86bdf3634eda\">\n",
              "    <div class=\"colab-df-container\">\n",
              "      <div>\n",
              "<style scoped>\n",
              "    .dataframe tbody tr th:only-of-type {\n",
              "        vertical-align: middle;\n",
              "    }\n",
              "\n",
              "    .dataframe tbody tr th {\n",
              "        vertical-align: top;\n",
              "    }\n",
              "\n",
              "    .dataframe thead th {\n",
              "        text-align: right;\n",
              "    }\n",
              "</style>\n",
              "<table border=\"1\" class=\"dataframe\">\n",
              "  <thead>\n",
              "    <tr style=\"text-align: right;\">\n",
              "      <th></th>\n",
              "      <th>pos1</th>\n",
              "      <th>pos2</th>\n",
              "      <th>pos3</th>\n",
              "      <th>nc</th>\n",
              "    </tr>\n",
              "  </thead>\n",
              "  <tbody>\n",
              "    <tr>\n",
              "      <th>T|T</th>\n",
              "      <td>0.185541</td>\n",
              "      <td>0.498016</td>\n",
              "      <td>0.316087</td>\n",
              "      <td>0.318294</td>\n",
              "    </tr>\n",
              "    <tr>\n",
              "      <th>C|T</th>\n",
              "      <td>0.189713</td>\n",
              "      <td>0.199146</td>\n",
              "      <td>0.180139</td>\n",
              "      <td>0.208396</td>\n",
              "    </tr>\n",
              "    <tr>\n",
              "      <th>A|T</th>\n",
              "      <td>0.249076</td>\n",
              "      <td>0.172641</td>\n",
              "      <td>0.221208</td>\n",
              "      <td>0.244180</td>\n",
              "    </tr>\n",
              "    <tr>\n",
              "      <th>G|T</th>\n",
              "      <td>0.375670</td>\n",
              "      <td>0.130197</td>\n",
              "      <td>0.282566</td>\n",
              "      <td>0.229130</td>\n",
              "    </tr>\n",
              "    <tr>\n",
              "      <th>T|C</th>\n",
              "      <td>0.185250</td>\n",
              "      <td>0.248514</td>\n",
              "      <td>0.269667</td>\n",
              "      <td>0.252617</td>\n",
              "    </tr>\n",
              "    <tr>\n",
              "      <th>C|C</th>\n",
              "      <td>0.156196</td>\n",
              "      <td>0.198164</td>\n",
              "      <td>0.244435</td>\n",
              "      <td>0.213797</td>\n",
              "    </tr>\n",
              "    <tr>\n",
              "      <th>A|C</th>\n",
              "      <td>0.276236</td>\n",
              "      <td>0.315008</td>\n",
              "      <td>0.244359</td>\n",
              "      <td>0.286844</td>\n",
              "    </tr>\n",
              "    <tr>\n",
              "      <th>G|C</th>\n",
              "      <td>0.382318</td>\n",
              "      <td>0.238314</td>\n",
              "      <td>0.241540</td>\n",
              "      <td>0.246742</td>\n",
              "    </tr>\n",
              "    <tr>\n",
              "      <th>T|A</th>\n",
              "      <td>0.180048</td>\n",
              "      <td>0.334056</td>\n",
              "      <td>0.307936</td>\n",
              "      <td>0.269508</td>\n",
              "    </tr>\n",
              "    <tr>\n",
              "      <th>C|A</th>\n",
              "      <td>0.194071</td>\n",
              "      <td>0.213889</td>\n",
              "      <td>0.193709</td>\n",
              "      <td>0.205264</td>\n",
              "    </tr>\n",
              "    <tr>\n",
              "      <th>A|A</th>\n",
              "      <td>0.262876</td>\n",
              "      <td>0.327849</td>\n",
              "      <td>0.330772</td>\n",
              "      <td>0.320696</td>\n",
              "    </tr>\n",
              "    <tr>\n",
              "      <th>G|A</th>\n",
              "      <td>0.363005</td>\n",
              "      <td>0.124206</td>\n",
              "      <td>0.167584</td>\n",
              "      <td>0.204531</td>\n",
              "    </tr>\n",
              "    <tr>\n",
              "      <th>T|G</th>\n",
              "      <td>0.174164</td>\n",
              "      <td>0.193288</td>\n",
              "      <td>0.384069</td>\n",
              "      <td>0.242311</td>\n",
              "    </tr>\n",
              "    <tr>\n",
              "      <th>C|G</th>\n",
              "      <td>0.304287</td>\n",
              "      <td>0.267349</td>\n",
              "      <td>0.377809</td>\n",
              "      <td>0.299724</td>\n",
              "    </tr>\n",
              "    <tr>\n",
              "      <th>A|G</th>\n",
              "      <td>0.230045</td>\n",
              "      <td>0.342267</td>\n",
              "      <td>0.099310</td>\n",
              "      <td>0.251184</td>\n",
              "    </tr>\n",
              "    <tr>\n",
              "      <th>G|G</th>\n",
              "      <td>0.291504</td>\n",
              "      <td>0.197095</td>\n",
              "      <td>0.138812</td>\n",
              "      <td>0.206781</td>\n",
              "    </tr>\n",
              "  </tbody>\n",
              "</table>\n",
              "</div>\n",
              "      <button class=\"colab-df-convert\" onclick=\"convertToInteractive('df-d70fe02b-0251-4ce2-85b0-86bdf3634eda')\"\n",
              "              title=\"Convert this dataframe to an interactive table.\"\n",
              "              style=\"display:none;\">\n",
              "        \n",
              "  <svg xmlns=\"http://www.w3.org/2000/svg\" height=\"24px\"viewBox=\"0 0 24 24\"\n",
              "       width=\"24px\">\n",
              "    <path d=\"M0 0h24v24H0V0z\" fill=\"none\"/>\n",
              "    <path d=\"M18.56 5.44l.94 2.06.94-2.06 2.06-.94-2.06-.94-.94-2.06-.94 2.06-2.06.94zm-11 1L8.5 8.5l.94-2.06 2.06-.94-2.06-.94L8.5 2.5l-.94 2.06-2.06.94zm10 10l.94 2.06.94-2.06 2.06-.94-2.06-.94-.94-2.06-.94 2.06-2.06.94z\"/><path d=\"M17.41 7.96l-1.37-1.37c-.4-.4-.92-.59-1.43-.59-.52 0-1.04.2-1.43.59L10.3 9.45l-7.72 7.72c-.78.78-.78 2.05 0 2.83L4 21.41c.39.39.9.59 1.41.59.51 0 1.02-.2 1.41-.59l7.78-7.78 2.81-2.81c.8-.78.8-2.07 0-2.86zM5.41 20L4 18.59l7.72-7.72 1.47 1.35L5.41 20z\"/>\n",
              "  </svg>\n",
              "      </button>\n",
              "      \n",
              "  <style>\n",
              "    .colab-df-container {\n",
              "      display:flex;\n",
              "      flex-wrap:wrap;\n",
              "      gap: 12px;\n",
              "    }\n",
              "\n",
              "    .colab-df-convert {\n",
              "      background-color: #E8F0FE;\n",
              "      border: none;\n",
              "      border-radius: 50%;\n",
              "      cursor: pointer;\n",
              "      display: none;\n",
              "      fill: #1967D2;\n",
              "      height: 32px;\n",
              "      padding: 0 0 0 0;\n",
              "      width: 32px;\n",
              "    }\n",
              "\n",
              "    .colab-df-convert:hover {\n",
              "      background-color: #E2EBFA;\n",
              "      box-shadow: 0px 1px 2px rgba(60, 64, 67, 0.3), 0px 1px 3px 1px rgba(60, 64, 67, 0.15);\n",
              "      fill: #174EA6;\n",
              "    }\n",
              "\n",
              "    [theme=dark] .colab-df-convert {\n",
              "      background-color: #3B4455;\n",
              "      fill: #D2E3FC;\n",
              "    }\n",
              "\n",
              "    [theme=dark] .colab-df-convert:hover {\n",
              "      background-color: #434B5C;\n",
              "      box-shadow: 0px 1px 3px 1px rgba(0, 0, 0, 0.15);\n",
              "      filter: drop-shadow(0px 1px 2px rgba(0, 0, 0, 0.3));\n",
              "      fill: #FFFFFF;\n",
              "    }\n",
              "  </style>\n",
              "\n",
              "      <script>\n",
              "        const buttonEl =\n",
              "          document.querySelector('#df-d70fe02b-0251-4ce2-85b0-86bdf3634eda button.colab-df-convert');\n",
              "        buttonEl.style.display =\n",
              "          google.colab.kernel.accessAllowed ? 'block' : 'none';\n",
              "\n",
              "        async function convertToInteractive(key) {\n",
              "          const element = document.querySelector('#df-d70fe02b-0251-4ce2-85b0-86bdf3634eda');\n",
              "          const dataTable =\n",
              "            await google.colab.kernel.invokeFunction('convertToInteractive',\n",
              "                                                     [key], {});\n",
              "          if (!dataTable) return;\n",
              "\n",
              "          const docLinkHtml = 'Like what you see? Visit the ' +\n",
              "            '<a target=\"_blank\" href=https://colab.research.google.com/notebooks/data_table.ipynb>data table notebook</a>'\n",
              "            + ' to learn more about interactive tables.';\n",
              "          element.innerHTML = '';\n",
              "          dataTable['output_type'] = 'display_data';\n",
              "          await google.colab.output.renderOutput(dataTable, element);\n",
              "          const docLink = document.createElement('div');\n",
              "          docLink.innerHTML = docLinkHtml;\n",
              "          element.appendChild(docLink);\n",
              "        }\n",
              "      </script>\n",
              "    </div>\n",
              "  </div>\n",
              "  "
            ]
          },
          "metadata": {},
          "execution_count": 10
        }
      ]
    },
    {
      "cell_type": "markdown",
      "source": [
        "### Prediction"
      ],
      "metadata": {
        "id": "PsyOI2zYfd_g"
      }
    },
    {
      "cell_type": "code",
      "source": [
        "def cod_proba(seq, t1, t2, frame=1):\n",
        "  \n",
        "  if len(seq) == 0:\n",
        "    print('No sequence')\n",
        "    return None\n",
        "  \n",
        "  if frame not in [1, 2, 3]:\n",
        "    print('No such frame')\n",
        "    return None\n",
        "\n",
        "  prev_nuc = seq[0]\n",
        "  start_pos = None\n",
        "  if frame == 1: log_prob = np.log(t1['pos1'][prev_nuc]); start_pos = 1\n",
        "  elif frame == 2: log_prob = np.log(t1['pos3'][prev_nuc]); start_pos = 0\n",
        "  elif frame == 3: log_prob = np.log(t1['pos2'][prev_nuc]); start_pos = 2\n",
        "\n",
        "  for i, nuc in enumerate(seq[1:], start_pos):\n",
        "    pos = 'pos{}'.format(i % 3 + 1)\n",
        "    pair = '{}|{}'.format(nuc, prev_nuc)\n",
        "    log_prob += np.log(t2[pos][pair])\n",
        "    prev_nuc = nuc\n",
        "  return np.exp(log_prob)\n",
        "\n",
        "def ncod_proba(seq, t1, t2):\n",
        "  if len(seq) == 0:\n",
        "    print('No sequence')\n",
        "    return None\n",
        "  prev_nuc = seq[0]\n",
        "  log_prob = np.log(t1['nc'][prev_nuc])\n",
        "  for i, nuc in enumerate(seq[1:], 1):\n",
        "    pair = '{}|{}'.format(nuc, prev_nuc)\n",
        "    log_prob += np.log(t2['nc'][pair])\n",
        "    prev_nuc = nuc\n",
        "  return np.exp(log_prob)\n",
        "\n",
        "def get_cod_probs(seq, t1, t2):\n",
        "  prob1 = cod_proba(seq, t1, t2)\n",
        "  prob2 = cod_proba(seq[1:] + seq[:1], t1, t2)\n",
        "  prob3 = cod_proba(seq[2:] + seq[:2], t1, t2)\n",
        "  probnc = ncod_proba(seq, t1, t2)\n",
        "  return np.array([prob1, prob2, prob3] / (prob1 + prob2 + prob3 + probnc))"
      ],
      "metadata": {
        "id": "v3imen1Y0R3P"
      },
      "execution_count": 20,
      "outputs": []
    },
    {
      "cell_type": "code",
      "source": [
        "def plot_graph(data, start, end, step):\n",
        "  fig, (ax1, ax2, ax3) = plt.subplots(3, 1, figsize=(15, 15))\n",
        "\n",
        "  x = range(start, end, step)\n",
        "\n",
        "  ax1.plot(x, data[:, 0])\n",
        "  ax2.plot(x, data[:, 1])\n",
        "  ax3.plot(x, data[:, 2])\n",
        "\n",
        "  ax1.set_title('Codon position 1')\n",
        "  ax2.set_title('Codon position 2')\n",
        "  ax3.set_title('Codon position 3')\n",
        "\n",
        "  plt.plot()\n",
        "\n",
        "\n",
        "start = 0\n",
        "end = 3000\n",
        "step = 12\n",
        "window = 96\n",
        "pos_probs = []\n",
        "for i in range(start, end, step):\n",
        "\n",
        "  pos_probs.append(get_cod_probs(seq[start+i:start+window+i], t1, t2))\n",
        "pos_probs = np.array(pos_probs)\n",
        "\n",
        "plot_graph(pos_probs, start, end, step)"
      ],
      "metadata": {
        "colab": {
          "base_uri": "https://localhost:8080/",
          "height": 879
        },
        "id": "aZAlvds9qEAD",
        "outputId": "8959325b-785d-4f6e-ec82-9727cefd35f1"
      },
      "execution_count": 23,
      "outputs": [
        {
          "output_type": "display_data",
          "data": {
            "text/plain": [
              "<Figure size 1080x1080 with 3 Axes>"
            ],
            "image/png": "[encoded data removed]"
          },
          "metadata": {
            "needs_background": "light"
          }
        }
      ]
    },
    {
      "cell_type": "code",
      "source": [],
      "metadata": {
        "id": "yijcGUHbzlbV"
      },
      "execution_count": null,
      "outputs": []
    }
  ]
}