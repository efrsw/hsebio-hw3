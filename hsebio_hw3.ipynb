{
  "nbformat": 4,
  "nbformat_minor": 0,
  "metadata": {
    "colab": {
      "provenance": [],
      "include_colab_link": true
    },
    "kernelspec": {
      "name": "python3",
      "display_name": "Python 3"
    },
    "language_info": {
      "name": "python"
    }
  },
  "cells": [
    {
      "cell_type": "markdown",
      "metadata": {
        "id": "view-in-github",
        "colab_type": "text"
      },
      "source": [
        "<a href=\"https://colab.research.google.com/github/efrsw/hsebio-hw3/blob/table1_feature/hsebio_hw3.ipynb\" target=\"_parent\"><img src=\"https://colab.research.google.com/assets/colab-badge.svg\" alt=\"Open In Colab\"/></a>"
      ]
    },
    {
      "cell_type": "markdown",
      "source": [
        "### Загрузка данных"
      ],
      "metadata": {
        "id": "R25qwtEyVx2z"
      }
    },
    {
      "cell_type": "code",
      "execution_count": 2,
      "metadata": {
        "id": "h06a6zdDVv1i",
        "colab": {
          "base_uri": "https://localhost:8080/"
        },
        "outputId": "5a57c04b-1199-4ba8-95ae-dbc0260162d1"
      },
      "outputs": [
        {
          "output_type": "stream",
          "name": "stdout",
          "text": [
            "--2022-10-11 19:23:42--  https://ftp.ncbi.nlm.nih.gov/genomes/all/GCF/000/355/675/GCF_000355675.1_ASM35567v1/GCF_000355675.1_ASM35567v1_genomic.fna.gz\n",
            "Resolving ftp.ncbi.nlm.nih.gov (ftp.ncbi.nlm.nih.gov)... 130.14.250.11, 130.14.250.12, 2607:f220:41e:250::10, ...\n",
            "Connecting to ftp.ncbi.nlm.nih.gov (ftp.ncbi.nlm.nih.gov)|130.14.250.11|:443... connected.\n",
            "HTTP request sent, awaiting response... 200 OK\n",
            "Length: 1168222 (1.1M) [application/x-gzip]\n",
            "Saving to: ‘GCF_000355675.1_ASM35567v1_genomic.fna.gz’\n",
            "\n",
            "GCF_000355675.1_ASM 100%[===================>]   1.11M  1.06MB/s    in 1.1s    \n",
            "\n",
            "2022-10-11 19:23:44 (1.06 MB/s) - ‘GCF_000355675.1_ASM35567v1_genomic.fna.gz’ saved [1168222/1168222]\n",
            "\n",
            "--2022-10-11 19:23:44--  https://ftp.ncbi.nlm.nih.gov/genomes/all/GCF/000/355/675/GCF_000355675.1_ASM35567v1/GCF_000355675.1_ASM35567v1_genomic.gbff.gz\n",
            "Resolving ftp.ncbi.nlm.nih.gov (ftp.ncbi.nlm.nih.gov)... 130.14.250.11, 130.14.250.12, 2607:f220:41e:250::10, ...\n",
            "Connecting to ftp.ncbi.nlm.nih.gov (ftp.ncbi.nlm.nih.gov)|130.14.250.11|:443... connected.\n",
            "HTTP request sent, awaiting response... 200 OK\n",
            "Length: 2796038 (2.7M) [application/x-gzip]\n",
            "Saving to: ‘GCF_000355675.1_ASM35567v1_genomic.gbff.gz’\n",
            "\n",
            "GCF_000355675.1_ASM 100%[===================>]   2.67M  2.16MB/s    in 1.2s    \n",
            "\n",
            "2022-10-11 19:23:46 (2.16 MB/s) - ‘GCF_000355675.1_ASM35567v1_genomic.gbff.gz’ saved [2796038/2796038]\n",
            "\n"
          ]
        }
      ],
      "source": [
        "import gzip\n",
        "\n",
        "!wget 'https://ftp.ncbi.nlm.nih.gov/genomes/all/GCF/000/355/675/GCF_000355675.1_ASM35567v1/GCF_000355675.1_ASM35567v1_genomic.fna.gz'\n",
        "!wget 'https://ftp.ncbi.nlm.nih.gov/genomes/all/GCF/000/355/675/GCF_000355675.1_ASM35567v1/GCF_000355675.1_ASM35567v1_genomic.gbff.gz'\n",
        "\n",
        "!gunzip GCF_000355675.1_ASM35567v1_genomic.fna.gz\n",
        "!gunzip GCF_000355675.1_ASM35567v1_genomic.gbff.gz"
      ]
    },
    {
      "cell_type": "markdown",
      "source": [
        "### Initial probabilities"
      ],
      "metadata": {
        "id": "PRI3rBPwsAnG"
      }
    },
    {
      "cell_type": "code",
      "source": [
        "!pip install bio"
      ],
      "metadata": {
        "colab": {
          "base_uri": "https://localhost:8080/"
        },
        "id": "DhTpHAOFsij8",
        "outputId": "5aad68a6-31ed-4fd3-8e44-2bb34061333f"
      },
      "execution_count": 3,
      "outputs": [
        {
          "output_type": "stream",
          "name": "stdout",
          "text": [
            "Looking in indexes: https://pypi.org/simple, https://us-python.pkg.dev/colab-wheels/public/simple/\n",
            "Collecting bio\n",
            "  Downloading bio-1.4.0-py3-none-any.whl (270 kB)\n",
            "\u001b[K     |████████████████████████████████| 270 kB 2.1 MB/s \n",
            "\u001b[?25hRequirement already satisfied: requests in /usr/local/lib/python3.7/dist-packages (from bio) (2.23.0)\n",
            "Collecting mygene\n",
            "  Downloading mygene-3.2.2-py2.py3-none-any.whl (5.4 kB)\n",
            "Requirement already satisfied: tqdm in /usr/local/lib/python3.7/dist-packages (from bio) (4.64.1)\n",
            "Collecting biopython>=1.79\n",
            "  Downloading biopython-1.79-cp37-cp37m-manylinux_2_17_x86_64.manylinux2014_x86_64.whl (2.6 MB)\n",
            "\u001b[K     |████████████████████████████████| 2.6 MB 37.7 MB/s \n",
            "\u001b[?25hRequirement already satisfied: numpy in /usr/local/lib/python3.7/dist-packages (from biopython>=1.79->bio) (1.21.6)\n",
            "Collecting biothings-client>=0.2.6\n",
            "  Downloading biothings_client-0.2.6-py2.py3-none-any.whl (37 kB)\n",
            "Requirement already satisfied: urllib3!=1.25.0,!=1.25.1,<1.26,>=1.21.1 in /usr/local/lib/python3.7/dist-packages (from requests->bio) (1.24.3)\n",
            "Requirement already satisfied: chardet<4,>=3.0.2 in /usr/local/lib/python3.7/dist-packages (from requests->bio) (3.0.4)\n",
            "Requirement already satisfied: idna<3,>=2.5 in /usr/local/lib/python3.7/dist-packages (from requests->bio) (2.10)\n",
            "Requirement already satisfied: certifi>=2017.4.17 in /usr/local/lib/python3.7/dist-packages (from requests->bio) (2022.9.24)\n",
            "Installing collected packages: biothings-client, mygene, biopython, bio\n",
            "Successfully installed bio-1.4.0 biopython-1.79 biothings-client-0.2.6 mygene-3.2.2\n"
          ]
        }
      ]
    },
    {
      "cell_type": "code",
      "source": [
        "from Bio import SeqIO\n",
        "import numpy as np\n",
        "import pandas as pd\n",
        "\n",
        "seq = None\n",
        "gb = None\n",
        "\n",
        "for record in SeqIO.parse(\"/content/GCF_000355675.1_ASM35567v1_genomic.fna\", \"fasta\"):\n",
        "    seq = record.seq\n",
        "\n",
        "for record in SeqIO.parse('/content/GCF_000355675.1_ASM35567v1_genomic.gbff', 'genbank'):\n",
        "  gb = record"
      ],
      "metadata": {
        "id": "Hdfqxf6GsU2f"
      },
      "execution_count": 19,
      "outputs": []
    },
    {
      "cell_type": "code",
      "source": [
        "# [)\n",
        "# strand is reversed automatically\n",
        "# only seqs that starts with ATG taken\n",
        "\n",
        "start, end = gb.features[0].location.start, None\n",
        "\n",
        "ncod = []\n",
        "cod = []\n",
        "\n",
        "for i in range(len(gb.features)):\n",
        "  feature = gb.features[i]\n",
        "  fseq = feature.extract(seq)\n",
        "\n",
        "  end = feature.location.start\n",
        "\n",
        "  if feature.type == 'gene' and fseq[:3] == 'ATG' and len(fseq) % 3 == 0:\n",
        "    cod.append(fseq.__str__())\n",
        "\n",
        "    if len(seq[start:end]) != 0:\n",
        "      ncod.append(seq[start:end].__str__())\n",
        "\n",
        "    start = feature.location.end"
      ],
      "metadata": {
        "id": "sH7bFKCUivKk"
      },
      "execution_count": 133,
      "outputs": []
    },
    {
      "cell_type": "code",
      "source": [
        "def ncod_probs(seq):\n",
        "  length = len(seq)\n",
        "  return np.array([\n",
        "      seq.count('T'), seq.count('C'), \n",
        "      seq.count('A'), seq.count('G')\n",
        "    ]) / length\n",
        "\n",
        "\n",
        "def cod_probs(seq):\n",
        "  res = []\n",
        "  for i in range(3):\n",
        "    res.append(ncod_probs(seq[i::3]))\n",
        "  return np.array(res)"
      ],
      "metadata": {
        "id": "Oa8Kgj4fuQwo"
      },
      "execution_count": 152,
      "outputs": []
    },
    {
      "cell_type": "code",
      "source": [
        "pd.DataFrame(np.vstack((cod_probs(''.join(cod)), ncod_probs(''.join(ncod)))).T, \n",
        "             index=[f'P({l})' for l in ['T', 'C', 'A', 'G']], \n",
        "             columns=[f'Codon position {i}' for i in range(1, 4)] + ['Not coding'])"
      ],
      "metadata": {
        "colab": {
          "base_uri": "https://localhost:8080/",
          "height": 175
        },
        "id": "vsDSOY7ZwlRn",
        "outputId": "d497facc-bf3e-4b04-9c49-4a8c05d3cc12"
      },
      "execution_count": 166,
      "outputs": [
        {
          "output_type": "execute_result",
          "data": {
            "text/plain": [
              "      Codon position 1  Codon position 2  Codon position 3  Not coding\n",
              "P(T)          0.181154          0.296239          0.314999    0.272921\n",
              "P(C)          0.206723          0.227157          0.233407    0.228630\n",
              "P(A)          0.256753          0.301996          0.238216    0.276787\n",
              "P(G)          0.355370          0.174608          0.213379    0.221662"
            ],
            "text/html": [
              "\n",
              "  <div id=\"df-ab13c4b4-9a4b-483e-8d71-7a7ba80a0929\">\n",
              "    <div class=\"colab-df-container\">\n",
              "      <div>\n",
              "<style scoped>\n",
              "    .dataframe tbody tr th:only-of-type {\n",
              "        vertical-align: middle;\n",
              "    }\n",
              "\n",
              "    .dataframe tbody tr th {\n",
              "        vertical-align: top;\n",
              "    }\n",
              "\n",
              "    .dataframe thead th {\n",
              "        text-align: right;\n",
              "    }\n",
              "</style>\n",
              "<table border=\"1\" class=\"dataframe\">\n",
              "  <thead>\n",
              "    <tr style=\"text-align: right;\">\n",
              "      <th></th>\n",
              "      <th>Codon position 1</th>\n",
              "      <th>Codon position 2</th>\n",
              "      <th>Codon position 3</th>\n",
              "      <th>Not coding</th>\n",
              "    </tr>\n",
              "  </thead>\n",
              "  <tbody>\n",
              "    <tr>\n",
              "      <th>P(T)</th>\n",
              "      <td>0.181154</td>\n",
              "      <td>0.296239</td>\n",
              "      <td>0.314999</td>\n",
              "      <td>0.272921</td>\n",
              "    </tr>\n",
              "    <tr>\n",
              "      <th>P(C)</th>\n",
              "      <td>0.206723</td>\n",
              "      <td>0.227157</td>\n",
              "      <td>0.233407</td>\n",
              "      <td>0.228630</td>\n",
              "    </tr>\n",
              "    <tr>\n",
              "      <th>P(A)</th>\n",
              "      <td>0.256753</td>\n",
              "      <td>0.301996</td>\n",
              "      <td>0.238216</td>\n",
              "      <td>0.276787</td>\n",
              "    </tr>\n",
              "    <tr>\n",
              "      <th>P(G)</th>\n",
              "      <td>0.355370</td>\n",
              "      <td>0.174608</td>\n",
              "      <td>0.213379</td>\n",
              "      <td>0.221662</td>\n",
              "    </tr>\n",
              "  </tbody>\n",
              "</table>\n",
              "</div>\n",
              "      <button class=\"colab-df-convert\" onclick=\"convertToInteractive('df-ab13c4b4-9a4b-483e-8d71-7a7ba80a0929')\"\n",
              "              title=\"Convert this dataframe to an interactive table.\"\n",
              "              style=\"display:none;\">\n",
              "        \n",
              "  <svg xmlns=\"http://www.w3.org/2000/svg\" height=\"24px\"viewBox=\"0 0 24 24\"\n",
              "       width=\"24px\">\n",
              "    <path d=\"M0 0h24v24H0V0z\" fill=\"none\"/>\n",
              "    <path d=\"M18.56 5.44l.94 2.06.94-2.06 2.06-.94-2.06-.94-.94-2.06-.94 2.06-2.06.94zm-11 1L8.5 8.5l.94-2.06 2.06-.94-2.06-.94L8.5 2.5l-.94 2.06-2.06.94zm10 10l.94 2.06.94-2.06 2.06-.94-2.06-.94-.94-2.06-.94 2.06-2.06.94z\"/><path d=\"M17.41 7.96l-1.37-1.37c-.4-.4-.92-.59-1.43-.59-.52 0-1.04.2-1.43.59L10.3 9.45l-7.72 7.72c-.78.78-.78 2.05 0 2.83L4 21.41c.39.39.9.59 1.41.59.51 0 1.02-.2 1.41-.59l7.78-7.78 2.81-2.81c.8-.78.8-2.07 0-2.86zM5.41 20L4 18.59l7.72-7.72 1.47 1.35L5.41 20z\"/>\n",
              "  </svg>\n",
              "      </button>\n",
              "      \n",
              "  <style>\n",
              "    .colab-df-container {\n",
              "      display:flex;\n",
              "      flex-wrap:wrap;\n",
              "      gap: 12px;\n",
              "    }\n",
              "\n",
              "    .colab-df-convert {\n",
              "      background-color: #E8F0FE;\n",
              "      border: none;\n",
              "      border-radius: 50%;\n",
              "      cursor: pointer;\n",
              "      display: none;\n",
              "      fill: #1967D2;\n",
              "      height: 32px;\n",
              "      padding: 0 0 0 0;\n",
              "      width: 32px;\n",
              "    }\n",
              "\n",
              "    .colab-df-convert:hover {\n",
              "      background-color: #E2EBFA;\n",
              "      box-shadow: 0px 1px 2px rgba(60, 64, 67, 0.3), 0px 1px 3px 1px rgba(60, 64, 67, 0.15);\n",
              "      fill: #174EA6;\n",
              "    }\n",
              "\n",
              "    [theme=dark] .colab-df-convert {\n",
              "      background-color: #3B4455;\n",
              "      fill: #D2E3FC;\n",
              "    }\n",
              "\n",
              "    [theme=dark] .colab-df-convert:hover {\n",
              "      background-color: #434B5C;\n",
              "      box-shadow: 0px 1px 3px 1px rgba(0, 0, 0, 0.15);\n",
              "      filter: drop-shadow(0px 1px 2px rgba(0, 0, 0, 0.3));\n",
              "      fill: #FFFFFF;\n",
              "    }\n",
              "  </style>\n",
              "\n",
              "      <script>\n",
              "        const buttonEl =\n",
              "          document.querySelector('#df-ab13c4b4-9a4b-483e-8d71-7a7ba80a0929 button.colab-df-convert');\n",
              "        buttonEl.style.display =\n",
              "          google.colab.kernel.accessAllowed ? 'block' : 'none';\n",
              "\n",
              "        async function convertToInteractive(key) {\n",
              "          const element = document.querySelector('#df-ab13c4b4-9a4b-483e-8d71-7a7ba80a0929');\n",
              "          const dataTable =\n",
              "            await google.colab.kernel.invokeFunction('convertToInteractive',\n",
              "                                                     [key], {});\n",
              "          if (!dataTable) return;\n",
              "\n",
              "          const docLinkHtml = 'Like what you see? Visit the ' +\n",
              "            '<a target=\"_blank\" href=https://colab.research.google.com/notebooks/data_table.ipynb>data table notebook</a>'\n",
              "            + ' to learn more about interactive tables.';\n",
              "          element.innerHTML = '';\n",
              "          dataTable['output_type'] = 'display_data';\n",
              "          await google.colab.output.renderOutput(dataTable, element);\n",
              "          const docLink = document.createElement('div');\n",
              "          docLink.innerHTML = docLinkHtml;\n",
              "          element.appendChild(docLink);\n",
              "        }\n",
              "      </script>\n",
              "    </div>\n",
              "  </div>\n",
              "  "
            ]
          },
          "metadata": {},
          "execution_count": 166
        }
      ]
    },
    {
      "cell_type": "code",
      "source": [
        "ttt = ''.join(cod)"
      ],
      "metadata": {
        "id": "GYd-5gmsg1_k"
      },
      "execution_count": 174,
      "outputs": []
    },
    {
      "cell_type": "code",
      "source": [
        "# Position 1 with i=2: ['GA', 'GC', 'AG']\n",
        "# Position 2 with i=0: ['AT', 'AC', 'CT']\n",
        "# Position 3 with i=1: ['TG', 'CG', 'TA']\n",
        "\n",
        "temp = []\n",
        "i = 2\n",
        "while i < len(cod[0])-1:\n",
        "  temp.append(cod[0][i:i+2])\n",
        "  i += 3\n",
        "\n",
        "temp[:3]"
      ],
      "metadata": {
        "id": "X46WFi7R0Zay",
        "outputId": "52cfa2f2-15db-44fd-bf34-5b219409b1f0",
        "colab": {
          "base_uri": "https://localhost:8080/"
        }
      },
      "execution_count": 209,
      "outputs": [
        {
          "output_type": "execute_result",
          "data": {
            "text/plain": [
              "['GA', 'GC', 'AG']"
            ]
          },
          "metadata": {},
          "execution_count": 209
        }
      ]
    },
    {
      "cell_type": "code",
      "source": [],
      "metadata": {
        "id": "wS7JBASf3U_C"
      },
      "execution_count": null,
      "outputs": []
    }
  ]
}