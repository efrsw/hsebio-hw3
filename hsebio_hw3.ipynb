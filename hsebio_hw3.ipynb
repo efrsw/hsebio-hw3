{
  "nbformat": 4,
  "nbformat_minor": 0,
  "metadata": {
    "colab": {
      "provenance": [],
      "include_colab_link": true
    },
    "kernelspec": {
      "name": "python3",
      "display_name": "Python 3"
    },
    "language_info": {
      "name": "python"
    }
  },
  "cells": [
    {
      "cell_type": "markdown",
      "metadata": {
        "id": "view-in-github",
        "colab_type": "text"
      },
      "source": [
        "<a href=\"https://colab.research.google.com/github/efrsw/hsebio-hw3/blob/added-comments/hsebio_hw3.ipynb\" target=\"_parent\"><img src=\"https://colab.research.google.com/assets/colab-badge.svg\" alt=\"Open In Colab\"/></a>"
      ]
    },
    {
      "cell_type": "markdown",
      "source": [
        "### Загрузка данных"
      ],
      "metadata": {
        "id": "R25qwtEyVx2z"
      }
    },
    {
      "cell_type": "markdown",
      "source": [
        "#### Поиск нужного генома\n",
        "\n",
        "Чтобы найти нужные файлы на ftp-сервере можно воспользоваться [инструкцией](https://www.metagenomics.wiki/tools/fastq/ncbi-ftp-genome-download)"
      ],
      "metadata": {
        "id": "-NYNiGhc4PB3"
      }
    },
    {
      "cell_type": "code",
      "source": [
        "!wget ftp://ftp.ncbi.nlm.nih.gov/genomes/ASSEMBLY_REPORTS/assembly_summary_genbank.txt"
      ],
      "metadata": {
        "id": "YYkj0gAh4hrn",
        "outputId": "ac39e5fc-4367-4a75-f5a0-0cabed0d4f4e",
        "colab": {
          "base_uri": "https://localhost:8080/"
        }
      },
      "execution_count": 1,
      "outputs": [
        {
          "output_type": "stream",
          "name": "stdout",
          "text": [
            "--2022-10-13 09:03:41--  ftp://ftp.ncbi.nlm.nih.gov/genomes/ASSEMBLY_REPORTS/assembly_summary_genbank.txt\n",
            "           => ‘assembly_summary_genbank.txt’\n",
            "Resolving ftp.ncbi.nlm.nih.gov (ftp.ncbi.nlm.nih.gov)... 130.14.250.12, 130.14.250.13, 2607:f220:41e:250::13, ...\n",
            "Connecting to ftp.ncbi.nlm.nih.gov (ftp.ncbi.nlm.nih.gov)|130.14.250.12|:21... connected.\n",
            "Logging in as anonymous ... Logged in!\n",
            "==> SYST ... done.    ==> PWD ... done.\n",
            "==> TYPE I ... done.  ==> CWD (1) /genomes/ASSEMBLY_REPORTS ... done.\n",
            "==> SIZE assembly_summary_genbank.txt ... 451953280\n",
            "==> PASV ... done.    ==> RETR assembly_summary_genbank.txt ... done.\n",
            "Length: 451953280 (431M) (unauthoritative)\n",
            "\n",
            "assembly_summary_ge 100%[===================>] 431.02M  16.4MB/s    in 27s     \n",
            "\n",
            "2022-10-13 09:04:11 (15.7 MB/s) - ‘assembly_summary_genbank.txt’ saved [451953280]\n",
            "\n"
          ]
        }
      ]
    },
    {
      "cell_type": "code",
      "source": [
        "!grep -E 'Thalassolituus oleivorans' assembly_summary_genbank.txt | cut -f 20 > ftp_folder.txt\n",
        "!head -n 1 ftp_folder.txt"
      ],
      "metadata": {
        "id": "EuB98u804m1Z",
        "outputId": "bf85ebda-31b3-4e91-e5ba-fb8542b2f167",
        "colab": {
          "base_uri": "https://localhost:8080/"
        }
      },
      "execution_count": 2,
      "outputs": [
        {
          "output_type": "stream",
          "name": "stdout",
          "text": [
            "https://ftp.ncbi.nlm.nih.gov/genomes/all/GCA/000/355/675/GCA_000355675.1_ASM35567v1\n"
          ]
        }
      ]
    },
    {
      "cell_type": "code",
      "execution_count": 3,
      "metadata": {
        "id": "h06a6zdDVv1i",
        "colab": {
          "base_uri": "https://localhost:8080/"
        },
        "outputId": "840e3fbf-351b-42ca-fad5-fc4f62d9042b"
      },
      "outputs": [
        {
          "output_type": "stream",
          "name": "stdout",
          "text": [
            "--2022-10-13 09:04:11--  https://ftp.ncbi.nlm.nih.gov/genomes/all/GCF/000/355/675/GCF_000355675.1_ASM35567v1/GCF_000355675.1_ASM35567v1_genomic.fna.gz\n",
            "Resolving ftp.ncbi.nlm.nih.gov (ftp.ncbi.nlm.nih.gov)... 130.14.250.11, 130.14.250.7, 2607:f220:41e:250::7, ...\n",
            "Connecting to ftp.ncbi.nlm.nih.gov (ftp.ncbi.nlm.nih.gov)|130.14.250.11|:443... connected.\n",
            "HTTP request sent, awaiting response... 200 OK\n",
            "Length: 1168222 (1.1M) [application/x-gzip]\n",
            "Saving to: ‘GCF_000355675.1_ASM35567v1_genomic.fna.gz’\n",
            "\n",
            "GCF_000355675.1_ASM 100%[===================>]   1.11M  1.06MB/s    in 1.1s    \n",
            "\n",
            "2022-10-13 09:04:13 (1.06 MB/s) - ‘GCF_000355675.1_ASM35567v1_genomic.fna.gz’ saved [1168222/1168222]\n",
            "\n",
            "--2022-10-13 09:04:13--  https://ftp.ncbi.nlm.nih.gov/genomes/all/GCF/000/355/675/GCF_000355675.1_ASM35567v1/GCF_000355675.1_ASM35567v1_genomic.gbff.gz\n",
            "Resolving ftp.ncbi.nlm.nih.gov (ftp.ncbi.nlm.nih.gov)... 130.14.250.11, 130.14.250.7, 2607:f220:41e:250::7, ...\n",
            "Connecting to ftp.ncbi.nlm.nih.gov (ftp.ncbi.nlm.nih.gov)|130.14.250.11|:443... connected.\n",
            "HTTP request sent, awaiting response... 200 OK\n",
            "Length: 2796038 (2.7M) [application/x-gzip]\n",
            "Saving to: ‘GCF_000355675.1_ASM35567v1_genomic.gbff.gz’\n",
            "\n",
            "GCF_000355675.1_ASM 100%[===================>]   2.67M  2.16MB/s    in 1.2s    \n",
            "\n",
            "2022-10-13 09:04:15 (2.16 MB/s) - ‘GCF_000355675.1_ASM35567v1_genomic.gbff.gz’ saved [2796038/2796038]\n",
            "\n"
          ]
        }
      ],
      "source": [
        "import gzip\n",
        "\n",
        "!wget 'https://ftp.ncbi.nlm.nih.gov/genomes/all/GCF/000/355/675/GCF_000355675.1_ASM35567v1/GCF_000355675.1_ASM35567v1_genomic.fna.gz'\n",
        "!wget 'https://ftp.ncbi.nlm.nih.gov/genomes/all/GCF/000/355/675/GCF_000355675.1_ASM35567v1/GCF_000355675.1_ASM35567v1_genomic.gbff.gz'\n",
        "\n",
        "!gunzip GCF_000355675.1_ASM35567v1_genomic.fna.gz\n",
        "!gunzip GCF_000355675.1_ASM35567v1_genomic.gbff.gz"
      ]
    },
    {
      "cell_type": "markdown",
      "source": [
        "### Reading sequences"
      ],
      "metadata": {
        "id": "PRI3rBPwsAnG"
      }
    },
    {
      "cell_type": "code",
      "source": [
        "!pip install bio"
      ],
      "metadata": {
        "colab": {
          "base_uri": "https://localhost:8080/"
        },
        "id": "DhTpHAOFsij8",
        "outputId": "b985e6b6-514d-4e8c-b5b4-d31bbaac0fde"
      },
      "execution_count": 4,
      "outputs": [
        {
          "output_type": "stream",
          "name": "stdout",
          "text": [
            "Looking in indexes: https://pypi.org/simple, https://us-python.pkg.dev/colab-wheels/public/simple/\n",
            "Collecting bio\n",
            "  Downloading bio-1.4.0-py3-none-any.whl (270 kB)\n",
            "\u001b[K     |████████████████████████████████| 270 kB 4.1 MB/s \n",
            "\u001b[?25hRequirement already satisfied: requests in /usr/local/lib/python3.7/dist-packages (from bio) (2.23.0)\n",
            "Collecting biopython>=1.79\n",
            "  Downloading biopython-1.79-cp37-cp37m-manylinux_2_17_x86_64.manylinux2014_x86_64.whl (2.6 MB)\n",
            "\u001b[K     |████████████████████████████████| 2.6 MB 43.0 MB/s \n",
            "\u001b[?25hCollecting mygene\n",
            "  Downloading mygene-3.2.2-py2.py3-none-any.whl (5.4 kB)\n",
            "Requirement already satisfied: tqdm in /usr/local/lib/python3.7/dist-packages (from bio) (4.64.1)\n",
            "Requirement already satisfied: numpy in /usr/local/lib/python3.7/dist-packages (from biopython>=1.79->bio) (1.21.6)\n",
            "Collecting biothings-client>=0.2.6\n",
            "  Downloading biothings_client-0.2.6-py2.py3-none-any.whl (37 kB)\n",
            "Requirement already satisfied: idna<3,>=2.5 in /usr/local/lib/python3.7/dist-packages (from requests->bio) (2.10)\n",
            "Requirement already satisfied: certifi>=2017.4.17 in /usr/local/lib/python3.7/dist-packages (from requests->bio) (2022.9.24)\n",
            "Requirement already satisfied: chardet<4,>=3.0.2 in /usr/local/lib/python3.7/dist-packages (from requests->bio) (3.0.4)\n",
            "Requirement already satisfied: urllib3!=1.25.0,!=1.25.1,<1.26,>=1.21.1 in /usr/local/lib/python3.7/dist-packages (from requests->bio) (1.24.3)\n",
            "Installing collected packages: biothings-client, mygene, biopython, bio\n",
            "Successfully installed bio-1.4.0 biopython-1.79 biothings-client-0.2.6 mygene-3.2.2\n"
          ]
        }
      ]
    },
    {
      "cell_type": "code",
      "source": [
        "from Bio import SeqIO\n",
        "import numpy as np\n",
        "import pandas as pd\n",
        "from itertools import product\n",
        "import json\n",
        "\n",
        "seq = None\n",
        "gb = None\n",
        "\n",
        "for record in SeqIO.parse(\"/content/GCF_000355675.1_ASM35567v1_genomic.fna\", \"fasta\"):\n",
        "    seq = record.seq\n",
        "\n",
        "for record in SeqIO.parse('/content/GCF_000355675.1_ASM35567v1_genomic.gbff', 'genbank'):\n",
        "  gb = record"
      ],
      "metadata": {
        "id": "Hdfqxf6GsU2f"
      },
      "execution_count": 5,
      "outputs": []
    },
    {
      "cell_type": "code",
      "source": [
        "[print(i) for i in SeqIO.parse(\"/content/GCF_000355675.1_ASM35567v1_genomic.fna\", \"fasta\")]"
      ],
      "metadata": {
        "id": "PsP0mgt22xb1",
        "outputId": "496f27de-d457-4a21-b3af-19100cc1f4bd",
        "colab": {
          "base_uri": "https://localhost:8080/"
        }
      },
      "execution_count": 6,
      "outputs": [
        {
          "output_type": "stream",
          "name": "stdout",
          "text": [
            "ID: NC_020888.1\n",
            "Name: NC_020888.1\n",
            "Description: NC_020888.1 Thalassolituus oleivorans MIL-1, complete sequence\n",
            "Number of features: 0\n",
            "Seq('TTGGGTAGAATGGCTGGCTCGATTGAAATCTTTGATGACGCTAGTAACAGGGGT...CTC')\n"
          ]
        },
        {
          "output_type": "execute_result",
          "data": {
            "text/plain": [
              "[None]"
            ]
          },
          "metadata": {},
          "execution_count": 6
        }
      ]
    },
    {
      "cell_type": "code",
      "source": [
        "[print(i) for i in SeqIO.parse('/content/GCF_000355675.1_ASM35567v1_genomic.gbff', 'genbank')]"
      ],
      "metadata": {
        "id": "VPRT_A2B6BT_",
        "outputId": "9aa69455-d608-494c-d05f-ee3eb9334226",
        "colab": {
          "base_uri": "https://localhost:8080/"
        }
      },
      "execution_count": 7,
      "outputs": [
        {
          "output_type": "stream",
          "name": "stdout",
          "text": [
            "ID: NC_020888.1\n",
            "Name: NC_020888\n",
            "Description: Thalassolituus oleivorans MIL-1, complete sequence\n",
            "Database cross-references: BioProject:PRJNA224116, BioSample:SAMEA2272589, Assembly:GCF_000355675.1\n",
            "Number of features: 7209\n",
            "/molecule_type=DNA\n",
            "/topology=circular\n",
            "/data_file_division=CON\n",
            "/date=14-DEC-2021\n",
            "/accessions=['NC_020888']\n",
            "/sequence_version=1\n",
            "/keywords=['RefSeq', 'complete genome']\n",
            "/source=Thalassolituus oleivorans MIL-1\n",
            "/organism=Thalassolituus oleivorans MIL-1\n",
            "/taxonomy=['Bacteria', 'Proteobacteria', 'Gammaproteobacteria', 'Oceanospirillales', 'Oceanospirillaceae', 'Thalassolituus']\n",
            "/references=[Reference(title='Genome Sequence of Thalassolituus oleivorans MIL-1 (DSM 14913T)', ...), Reference(title='Direct Submission', ...)]\n",
            "/comment=REFSEQ INFORMATION: The reference sequence is identical to\n",
            "HF680312.1.\n",
            "The annotation was added by the NCBI Prokaryotic Genome Annotation\n",
            "Pipeline (PGAP). Information about PGAP can be found here:\n",
            "https://www.ncbi.nlm.nih.gov/genome/annotation_prok/\n",
            "COMPLETENESS: full length.\n",
            "/structured_comment=OrderedDict([('Genome-Annotation-Data', OrderedDict([('Annotation Provider', 'NCBI RefSeq'), ('Annotation Date', '12/14/2021 02:11:21'), ('Annotation Pipeline', 'NCBI Prokaryotic Genome Annotation Pipeline (PGAP)'), ('Annotation Method', 'Best-placed reference protein set; GeneMarkS-2+'), ('Annotation Software revision', '5.3'), ('Features Annotated', 'Gene; CDS; rRNA; tRNA; ncRNA; repeat_region'), ('Genes (total)', '3,600'), ('CDSs (total)', '3,534'), ('Genes (coding)', '3,502'), ('CDSs (with protein)', '3,502'), ('Genes (RNA)', '66'), ('rRNAs', '4, 4, 4 (5S, 16S, 23S)'), ('complete rRNAs', '4, 4, 4 (5S, 16S, 23S)'), ('tRNAs', '50'), ('ncRNAs', '4'), ('Pseudo Genes (total)', '32'), ('CDSs (without protein)', '32'), ('Pseudo Genes (ambiguous residues)', '0 of 32'), ('Pseudo Genes (frameshifted)', '7 of 32'), ('Pseudo Genes (incomplete)', '28 of 32'), ('Pseudo Genes (internal stop)', '0 of 32'), ('Pseudo Genes (multiple problems)', '3 of 32'), ('CRISPR Arrays', '1')]))])\n",
            "/contig=join(HF680312.1:1..3920328)\n",
            "Seq('TTGGGTAGAATGGCTGGCTCGATTGAAATCTTTGATGACGCTAGTAACAGGGGT...CTC')\n"
          ]
        },
        {
          "output_type": "execute_result",
          "data": {
            "text/plain": [
              "[None]"
            ]
          },
          "metadata": {},
          "execution_count": 7
        }
      ]
    },
    {
      "cell_type": "code",
      "source": [
        "# [)\n",
        "# strand is reversed automatically\n",
        "# only seqs that starts with ATG taken\n",
        "\n",
        "start, end = gb.features[0].location.start, None\n",
        "\n",
        "ncod = []\n",
        "cod = []\n",
        "\n",
        "for i in range(len(gb.features)):\n",
        "  feature = gb.features[i]\n",
        "  fseq = feature.extract(seq)\n",
        "\n",
        "  end = feature.location.start\n",
        "\n",
        "  if feature.type == 'gene' and fseq[:3] == 'ATG' and len(fseq) % 3 == 0:\n",
        "    cod.append(fseq.__str__())\n",
        "\n",
        "    if len(seq[start:end]) != 0:\n",
        "      ncod.append(seq[start:end].__str__())\n",
        "\n",
        "    start = feature.location.end"
      ],
      "metadata": {
        "id": "sH7bFKCUivKk"
      },
      "execution_count": 8,
      "outputs": []
    },
    {
      "cell_type": "code",
      "source": [
        "cod[:5]"
      ],
      "metadata": {
        "id": "bZ8g_nch6dku",
        "outputId": "8747fb57-fb12-4a0f-fbf8-ca710cdea9e7",
        "colab": {
          "base_uri": "https://localhost:8080/"
        }
      },
      "execution_count": 9,
      "outputs": [
        {
          "output_type": "execute_result",
          "data": {
            "text/plain": [
              "['ATGACGCTAGTAACAGGGGTAACCGTGACGGGTTTGTGGCAAGACTGCCTTGGGCATTTACAGCATGAGTTGCCTGCGCAGCAATACAACACATGGATCAGACCTTTGATCGCGAGTACGGAAAACGGTCAGTTAGTTCTGAGCGCCCCTAATCGCTTTGTCAAAGATTGGGTTAAAGACAAGTATCTGCAGCGTATTCAAGAAATCTTATCCGAACTTAACGGCGGTCGTATCACTCATGTCGATGTGACTGCGGGTGAGTCGCGTCCTATGTTTAGTCCTCAGGCTGCGCCAAGACCAGAACCACGGCCTGCGGCGTCGTCGGTTGAAGGATTTGCTTTTGCTGCGCCTCGAGTGGAAGCTGAAGAACCAACCAGTACTTTTTCACCGATTGCATCTTCACCGTTAAAAGAATCACCTTCTACTAATAACAACAATGAGTTTGGACGTCAGTCTTCTTCTAATCTCATTTTGCCTGGTCAGGCTTCTTTTAATACTGATCCTATGCCGTCGGCTCCGGTTTCTAATAAACCGAAACGTAATGTGCAGGTTGAAGGTGGTATTCAGCATCAGAGTTTCTTGAATTCGACATTTACCTTTAAAACCTTTGTTGAAGGTAAATCAAACCAGCTAGCGCATGCCGCAGCTAAGCAGATTGCTGAAAATGCCGGTGGTTCTTACAACCCTCTATTTATATATGGTGGTGTCGGTTTAGGTAAAACCCACTTAATGCATGCGGTAGGTAATCATCTGCAAAGTAAAAATCCGAATGCAAAAGTACTTTATGTGCATTCAGAACGCTTTGTGCAAGACATGGTAAAAGCATTACAGCTAAATGCGATTAACGAATTTAAGCGCTTTTATCGTGGTTTAGATGCTTTATTAATTGACGATATTCAATTTTTTGCGGGCAAAGAACGTTCGCAAGAAGAGTTTTTCCATACCTTTAACGCTTTGTTAGAGGGTGGTCAGCAAATGATTTTAACCTGTGATCGCTACCCTAAAGAGATCAATGGATTAGAAGAACGCTTAAAGTCACGTTTCGGCTGGGGTTTAACCGTTGCTGTTGAACCACCAGAGCTGGAAACACGAGTGGCCATTTTGATGAAAAAGGCTGAACAAACTGGTGTTAATCTGCCCGACGATGCGGCATTCTTTATTGCCCAGAAGATCCGTTCCAACGTACGGGAACTGGAGGGCGCGTTAAAACGCGTGGTTGCGAATTCGCACTTCACAGGAAGTGAAATTACGCTGCCGTTTATTAAAGAATCGTTAAAAGATTTGCTCGCTTTACAAGACAAACAGGTCAGCGTTGAAAATATCCAGCGAACGGTTGCTGAGTATTACAAAATCAAGATGTCTGATTTATTATCTAAGCGCCGCACCCGTTCTATCGCTCGTCCTAGACAAGTAGCGATGGCACTGAGTAAAGAACTTACCAACCACAGCTTGCCAGAAATTGGTGAGTTGTTTGGCGGGCGAGATCACACCACAGTGTTACACGCGTGCCGTAAAATTAAAGAATTACAGGAAACCAGTGCAGACGTTCGGGAAGACTATAAGAACTTACTGCGATCACTGACAACCTAG',\n",
              " 'ATGAAATTCGTTATCTCTAGGGAAGCCCTTCTGCGGCCTTTGCAATTGGTGGCAGGCGTTGTGGAAAAACGTCAGACGCTACCAGTACTGTCTAACGTACTGCTGGAAGTAGAAGGTCAGCAACTGTCTTTGACGGGTACAGATCTTGAAGTTGAACTGGTCGGACGAGTGACGCTTGATGAAGTCGGCGAAGAGGGCGCAATTACAGTGCCTGCTAAAAAGCTGATGGATATTTGCCGTTCGTTGCCAGATGGCGCACAGATTGAAGTCGAACAAGATGATCAGCGCGTTAACGTACGCTCTGGTCGTTCACGTTTTACGCTGTCTACCTTGCCTGCAACTGAATTTCCAAATGTCGACAACATCGCTGGCGAACAGTCGTTTACTCTGGCCCAAGGCAGCCTGCGTCGTATTATCGACCGCACTAGCTTTGCCATGGCACAGCAAGATGTTCGTTACTACTTAAATGGTATGTTGATAGAAGTGAGTGCTAATGGTTTGCGTGCAGTTGCAACCGATGGTCACCGTCTAGCGACATGCCATGTTGCGGTTAGCGGCCCAGAAGTCGCGCAGCAAATTATTCTGCCGCGTAAAGGCGTGCTGGAGTTGGCTAAGTTGCTGACTGATCCAGAAGCCACTGTTAGCGTTTCGTTAAGCACTAACCACTTGCGTACCCATACCGAGAATTTCACCTTCACCTCTAAGTTGGTCGATGGCAAGTTCCCAGATTATGGCCGTGTTATTCCTAAGGGCGGCAACAACGTTATGCTGGCTGATCGTTTGGAATTACGCCAAGTATTTAACCGTACTGCGATTCTTTCTAACGAAAAATATCGTGGTGTGCGTTTAGTGCTAGCAACGGATGTTTTGCAGGTTTTTGCTAACAACCCGGAGCAAGAAGAAGCGGAAGAATCGGTAGCGGTAGAATACAAAGGTGATGCTTTAGAAATGGGCTTCAACGTATCTTACCTACAAGATGTTATGGGCGTGCTAGATACACAGCAAGTTAAGCTGACCTTATCTGATGCCAATAGCAGCGCACTTTTAGAAGAGCCAGAAGGCGGCGATGCCATGTATGTGGTTATGCCGATGCGTCTGTAG',\n",
              " 'ATGCCTATTCGGCAACTTCAAATCAGCGGCGTGCGCAACTTACAGCCGCTGACCATAACCCCGCATAGCGGGGTTAATTTCATTTATGGCGAGAACGGTTCTGGCAAGACGAGCATACTCGAAGCCATTGCGGTCATGGCTGCCGGCAAGTCGTTTCGTACCTCTCAGCTTAAACATGTTATGAGTCACGATGCTGATCGCATGGAATTGCGCATGAGCATTGAAGACCTGCATCGCGGCGAGTGCGAGCTAGATAGTTTGCGCTTAAAGGGAGGGGATCATTTGCTGAAGCAAAATGGTTCTGTTCTCACGTCTCAGGCCGAAGCGGCACATTGGTTACCGGTTCAGATCATAGAGCCAAATACATTCAAGTTATTGGCTGGCTCTCCAGAAGAACGGCGACAGTTTATTGATTGGGGAGTGTTCCACGTGGAACACGGCTTCATGGATCAGTGGAAGACCTTTCGCAAACAGCTGAAACAACGCAATGCCGTTCTCAAGCAAAAAGAGAGCGAATGGCTGAGCGTTTGGAACGCTGGATTTGTGGAGAGCGCCCTTACCATCGACAAACACAGAAGAGACTACCTTAAGCGTTTTAAGCCCGAATTTGAGCGTATTCTTACCGCTCTTGATCCTGATGTAGACGTCACCTTGGCGTATTTTCCGGGATGGGACAAAGATTCGGAACTGGGCGATGTACTAACACGTCAGCAAGAACGAGATCTCGCTTTAGGGTACACTCAGTCAGGGCCACACAGAGCTGAGCTGCGCATCAAATGCGATAAGCAACCGGCTGCCGAGATCTTATCGCGCGGACAGCAAAAAACAGTGGTGGCGGCTCTTAAGATTGCTCAAGGTTCATTGTTTCAACAAGAGAGTGATCGACGCACTATCTACCTAGTGGATGATCTCGCGTCAGAATTGGATGAAAAGCACCGTTTTGCTTTATGCAAACTGCTAGAAGATTTAAAATGTCAGGTCTTTATTACCAGCATCGATAAAGACAAGCTGACCGATGTATGGCAGCCCGTTGCCAGTAAAGTGTTCCACGTGGAACACGGACGTTTAACAGAAGAAGCGTAA',\n",
              " 'ATGAGTGAGCAGATTTACGACTCGTCGAGTATTAAAGTCCTAAAAGGGCTGGATGCCGTACGTAAAAGACCAGGGATGTACATTGGCGATACAGACGATGGCACAGGCCTGCATCACATGGTGTTCGAGGTCGTGGATAACTCCATTGATGAAGCCTTGGCTGGTCACTGTGATTCCGTTGATGTTGTGATTCATCCGGATAACTCAGTATCGGTATCCGATAACGGCCGTGGTATTCCTACTGAGCTGCACGAAGAAGAAGGCGTATCGGCTGCAGAAGTTATCTTAACCGTACTGCACGCAGGCGGTAAGTTCGATGATAACTCCTATAAAGTATCCGGCGGTTTGCACGGTGTAGGTGTTTCAGTTGTTAACGCACTGTCTGAAAAGCTAAAGCTGACCATTCGTCGCGGCGGTAAGTTGTATGAGCAGGAATACACTCATGGTGTACCTGATTACCCGTTGAAAGAAGTTGGTGTAAGTGCCACTAACGGTACTATGGTTACCTTCCTACCATCGAAGCAAACCTTCACTAAAACTGAATTCAGCTACGACTACCTAGCTAAGCGTTTACGCGAATTGTCATTCTTGAACTCTGGTGTGCGTATTCACCTGAAAGATGAGCGCAGCGATAAAGAAGACTTGTTCGAATTCCAAGGTGGTTTGGCGTCCTTCGTTAACTACCTGAACGAAGGCAAAACCGTTGTGAACGACGTGTTTCACTTCAACGTTCAGCGCGATGAAGCCAACGATGGCATTGGCGTAGAAGTAGCGATGCAGTGGAATGATGGCTTCCAAGAAAACATCTACTGCTATACCAACAATATCCCGCAGCGCGACGGTGGTAGTCACTTGGCTGGCTTCCGTGCCGCGCTGACGCGTACGTTGAATACCTACATCGAGAAAGAAGGCCTAGCCAAGAAACACAAAGTGGCAACGACAGGTGATGACGCTCGTGAAGGTTTAACCGCGATTATCTCGGTTAAAGTACCTGATCCTAAGTTCAGCTCGCAAACCAAAGACAAGCTTGTATCTAGTGAAGTGAAGCCAGCGGTAGAGCAAGAAATGGGGCGTTTGTTCTCAGAATACTTGCTTGAATTCCCGCAACAAGCCAAAGAATTGGTTGGCAAAATGGTCGATGCAGCACGTGCGCGTGAAGCAGCCCGTAAAGCCCGCGAAATGACCCGTCGTAAAGGCGCTCTCGATATCGCCGGTTTGCCAGGTAAACTCGCCGATTGCCAAGAGAAAGATCCAGCCCTTTCTGAAGTGTACCTAGTGGAAGGGGACTCTGCGGGCGGTTCTGCGAAGCAGGGCCGTGACCGCCGGAACCAAGCGATCCTACCGCTAAAAGGTAAGATCCTTAACGTTGAAAAAGCACGCTTCGATAAGATGATTTCATCCGCTGAAGTGGGCACCCTGATTACCGCATTGGGTTGTGGTATTGGCCGCGAAGAATTTAACCCAGACAAACTGCGTTACCACCGCATCATCATCATGACCGATGCCGACGTCGACGGTGCGCACATTCGTACGCTGCTGTTGACCTTCTTCTTCCGTCAAATGCCAGAAATTATCGAACGCGGGCACATCTACATTGCTCAGCCGCCGTTGTATAAAATCAAACGCGGCAAGCAAGAGCAGTACATCAAAGACGAAGAAGCGATGGAGAGTTACCTAACTCATATCGCATTGGAAAAAGCAGCGCTGCATCCAAGTGCTGACGCGCCAGCGATTACTGATATCGCCTTTGCTGAAATCGTTGCTCAGTATCGTGCCGCGCAAGAAACCGTCAAGCGTATGTCGAACCTAGTGCCAGGCGAAGTACTGCACCAGATGGTCACTCTTCCGCGCCTAAGCCCTGCAGACCTTGAAAGTGAGGCGATGGTTAAGGATTGGACCGAAAAGCTCTCAGCCGTCCTCCCAGACGCTGGCCGCAGCGGTAGCCACTTCGAAGTGGCCGTACTAAAAGACAGTGAACGCAATAACTACAACGTCGAAATTAAAGTAATAACCCACGGTATGGCGCGTGAATACTTGCTGGATAAAGACTTCTTCGGCGGTAGCGGTTACAACAAACTCGCCTCTATGAGCGAAATGTTGCGTGATACGCTGGATGAAACAGCTTACATCCAACGTGGCGAACGTGTTCACCCAATCGTCGACTTCTGGGACGCCGTGCAATGGTTACTGTCGGAAGCGAAAAAAGGCTTCAACATCCAGCGCTATAAAGGACTGGGCGAAATGAACCCAAGCCAGCTATGGGAAACCACCATGGACCCAGAAACACGTCGCATGCTGCAAGTAACCATCGACGACGCCGTAGGCGCCGATAAGATGTTTACCACGCTCATGGGCGACGAAGTAGAACCGCGTCGTGCCTTTATTGAAGCGAATGCGTTGAACGTAGCGAACTTGGATTTTTGA',\n",
              " 'ATGCCCTACAGAGATATTGAGAAAGTGCTATCCCCTGGACGCCTTTTTACCTATCGGAATGCGGTAAAAACTATTCTAGGTGTTGATAGTGAAGATATAACGTTAAAACTATACGAATGGAATGCAAAGCTCTCTGGGCACTTTCTATTCCCATTGCATATCTATGAAGTGATGTTGCGAAATGCTATTTCAGATGCAATTTCACAGAGGTACGGTTTAGACTGGCCGGTCAATACAGTATTTCAGAATTCTTTACCAAAGAAAGAAAAAGCCGATTTACTAAATTTAGTGACACCCACGTATGATGGGTTAGGAAAAGTAGTTCCCGAACTGAATTTATACTGGTTTGAAAGTATGCTGACACAAAGACATGAAGCACGTATTTGGAAACCATATAGCAGTATGACTTTCCCAAATGCTAGTGTTGATGCGGCAAATTTGCGGGTGATATTGAATAAAGAGTGTAAGAAGATTCGTAAATTAAGAAACCGTATAGCACATCATGAACCAATTTTTAATCAGGCTAATATGCAGGAAATATTAGGACACATTCAAACGGCTGTGGCATTTCGTTGTACTACTACCGAAGCGTGGTTGATGAATTGTGAGCAAGTTTCGGAATTGCTAATTAATCCTATTATTTAG']"
            ]
          },
          "metadata": {},
          "execution_count": 9
        }
      ]
    },
    {
      "cell_type": "code",
      "source": [
        "ncod[:5]"
      ],
      "metadata": {
        "id": "8ZwUFRO16VZX",
        "outputId": "ea5ebb38-9a01-493c-e5f4-e76d03ae65b2",
        "colab": {
          "base_uri": "https://localhost:8080/"
        }
      },
      "execution_count": 10,
      "outputs": [
        {
          "output_type": "execute_result",
          "data": {
            "text/plain": [
              "['TTGGGTAGAATGGCTGGCTCGATTGAAATCTTTG',\n",
              " 'ATCTGAGTGGAGAATC',\n",
              " 'TATTACTTCCTGAT',\n",
              " 'GCCCATTTTGTAGGAACACGCGCAAGCGGGCAGATATCTAGCGCAATACGACAAGACGCTAGAGCACCGAATTAATTATGAGGAACACCACGA',\n",
              " 'TCTGAGTTTGTTGTGGGGAAGGCAGCCAATGGCTGCCTTTTTTGTATTTTGGGTATGAAAAAGCCCGCACTAAGCGGGCCTAATCAAATCATACGTCTTTGGTGGGCTGCCGAAGCAGGGATATCCAAAGCTCACTGAAAAACTGTAAACTTTTACCGCGGATCTGTCAAAGTTAAATAGTGTAAATCAAGGAAGACTT']"
            ]
          },
          "metadata": {},
          "execution_count": 10
        }
      ]
    },
    {
      "cell_type": "markdown",
      "source": [
        "### Initial probabilities"
      ],
      "metadata": {
        "id": "edXl5ImIzxzu"
      }
    },
    {
      "cell_type": "code",
      "source": [
        "def seq_probs(seq):\n",
        "  return np.array([\n",
        "      seq.count('T'), seq.count('C'), \n",
        "      seq.count('A'), seq.count('G')\n",
        "    ]) / len(seq)\n",
        "\n",
        "def cod_probs(seq):\n",
        "  res = []\n",
        "  for i in range(3):\n",
        "    res.append(seq_probs(seq[i::3]))\n",
        "  return np.array(res)\n",
        "\n",
        "def make_table1(cod_seqs, ncod_seqs):\n",
        "  table1 = pd.DataFrame(np.vstack((cod_probs(''.join(cod_seqs)), seq_probs(''.join(ncod_seqs)))).T, \n",
        "                       index=[f'P({l})' for l in ['T', 'C', 'A', 'G']], \n",
        "                       columns=[f'Codon position {i}' for i in range(1, 4)] + ['Not coding'])\n",
        "  return table1"
      ],
      "metadata": {
        "id": "Oa8Kgj4fuQwo"
      },
      "execution_count": 11,
      "outputs": []
    },
    {
      "cell_type": "code",
      "source": [
        "make_table1(cod, ncod)"
      ],
      "metadata": {
        "id": "vZeDJBqfzTJf",
        "outputId": "85aafa91-6fcd-4657-cc2f-3d210336eadb",
        "colab": {
          "base_uri": "https://localhost:8080/",
          "height": 175
        }
      },
      "execution_count": 12,
      "outputs": [
        {
          "output_type": "execute_result",
          "data": {
            "text/plain": [
              "      Codon position 1  Codon position 2  Codon position 3  Not coding\n",
              "P(T)          0.181154          0.296239          0.314999    0.272921\n",
              "P(C)          0.206723          0.227157          0.233407    0.228630\n",
              "P(A)          0.256753          0.301996          0.238216    0.276787\n",
              "P(G)          0.355370          0.174608          0.213379    0.221662"
            ],
            "text/html": [
              "\n",
              "  <div id=\"df-4dcb0549-ac14-4ad6-ba63-a54b91029d57\">\n",
              "    <div class=\"colab-df-container\">\n",
              "      <div>\n",
              "<style scoped>\n",
              "    .dataframe tbody tr th:only-of-type {\n",
              "        vertical-align: middle;\n",
              "    }\n",
              "\n",
              "    .dataframe tbody tr th {\n",
              "        vertical-align: top;\n",
              "    }\n",
              "\n",
              "    .dataframe thead th {\n",
              "        text-align: right;\n",
              "    }\n",
              "</style>\n",
              "<table border=\"1\" class=\"dataframe\">\n",
              "  <thead>\n",
              "    <tr style=\"text-align: right;\">\n",
              "      <th></th>\n",
              "      <th>Codon position 1</th>\n",
              "      <th>Codon position 2</th>\n",
              "      <th>Codon position 3</th>\n",
              "      <th>Not coding</th>\n",
              "    </tr>\n",
              "  </thead>\n",
              "  <tbody>\n",
              "    <tr>\n",
              "      <th>P(T)</th>\n",
              "      <td>0.181154</td>\n",
              "      <td>0.296239</td>\n",
              "      <td>0.314999</td>\n",
              "      <td>0.272921</td>\n",
              "    </tr>\n",
              "    <tr>\n",
              "      <th>P(C)</th>\n",
              "      <td>0.206723</td>\n",
              "      <td>0.227157</td>\n",
              "      <td>0.233407</td>\n",
              "      <td>0.228630</td>\n",
              "    </tr>\n",
              "    <tr>\n",
              "      <th>P(A)</th>\n",
              "      <td>0.256753</td>\n",
              "      <td>0.301996</td>\n",
              "      <td>0.238216</td>\n",
              "      <td>0.276787</td>\n",
              "    </tr>\n",
              "    <tr>\n",
              "      <th>P(G)</th>\n",
              "      <td>0.355370</td>\n",
              "      <td>0.174608</td>\n",
              "      <td>0.213379</td>\n",
              "      <td>0.221662</td>\n",
              "    </tr>\n",
              "  </tbody>\n",
              "</table>\n",
              "</div>\n",
              "      <button class=\"colab-df-convert\" onclick=\"convertToInteractive('df-4dcb0549-ac14-4ad6-ba63-a54b91029d57')\"\n",
              "              title=\"Convert this dataframe to an interactive table.\"\n",
              "              style=\"display:none;\">\n",
              "        \n",
              "  <svg xmlns=\"http://www.w3.org/2000/svg\" height=\"24px\"viewBox=\"0 0 24 24\"\n",
              "       width=\"24px\">\n",
              "    <path d=\"M0 0h24v24H0V0z\" fill=\"none\"/>\n",
              "    <path d=\"M18.56 5.44l.94 2.06.94-2.06 2.06-.94-2.06-.94-.94-2.06-.94 2.06-2.06.94zm-11 1L8.5 8.5l.94-2.06 2.06-.94-2.06-.94L8.5 2.5l-.94 2.06-2.06.94zm10 10l.94 2.06.94-2.06 2.06-.94-2.06-.94-.94-2.06-.94 2.06-2.06.94z\"/><path d=\"M17.41 7.96l-1.37-1.37c-.4-.4-.92-.59-1.43-.59-.52 0-1.04.2-1.43.59L10.3 9.45l-7.72 7.72c-.78.78-.78 2.05 0 2.83L4 21.41c.39.39.9.59 1.41.59.51 0 1.02-.2 1.41-.59l7.78-7.78 2.81-2.81c.8-.78.8-2.07 0-2.86zM5.41 20L4 18.59l7.72-7.72 1.47 1.35L5.41 20z\"/>\n",
              "  </svg>\n",
              "      </button>\n",
              "      \n",
              "  <style>\n",
              "    .colab-df-container {\n",
              "      display:flex;\n",
              "      flex-wrap:wrap;\n",
              "      gap: 12px;\n",
              "    }\n",
              "\n",
              "    .colab-df-convert {\n",
              "      background-color: #E8F0FE;\n",
              "      border: none;\n",
              "      border-radius: 50%;\n",
              "      cursor: pointer;\n",
              "      display: none;\n",
              "      fill: #1967D2;\n",
              "      height: 32px;\n",
              "      padding: 0 0 0 0;\n",
              "      width: 32px;\n",
              "    }\n",
              "\n",
              "    .colab-df-convert:hover {\n",
              "      background-color: #E2EBFA;\n",
              "      box-shadow: 0px 1px 2px rgba(60, 64, 67, 0.3), 0px 1px 3px 1px rgba(60, 64, 67, 0.15);\n",
              "      fill: #174EA6;\n",
              "    }\n",
              "\n",
              "    [theme=dark] .colab-df-convert {\n",
              "      background-color: #3B4455;\n",
              "      fill: #D2E3FC;\n",
              "    }\n",
              "\n",
              "    [theme=dark] .colab-df-convert:hover {\n",
              "      background-color: #434B5C;\n",
              "      box-shadow: 0px 1px 3px 1px rgba(0, 0, 0, 0.15);\n",
              "      filter: drop-shadow(0px 1px 2px rgba(0, 0, 0, 0.3));\n",
              "      fill: #FFFFFF;\n",
              "    }\n",
              "  </style>\n",
              "\n",
              "      <script>\n",
              "        const buttonEl =\n",
              "          document.querySelector('#df-4dcb0549-ac14-4ad6-ba63-a54b91029d57 button.colab-df-convert');\n",
              "        buttonEl.style.display =\n",
              "          google.colab.kernel.accessAllowed ? 'block' : 'none';\n",
              "\n",
              "        async function convertToInteractive(key) {\n",
              "          const element = document.querySelector('#df-4dcb0549-ac14-4ad6-ba63-a54b91029d57');\n",
              "          const dataTable =\n",
              "            await google.colab.kernel.invokeFunction('convertToInteractive',\n",
              "                                                     [key], {});\n",
              "          if (!dataTable) return;\n",
              "\n",
              "          const docLinkHtml = 'Like what you see? Visit the ' +\n",
              "            '<a target=\"_blank\" href=https://colab.research.google.com/notebooks/data_table.ipynb>data table notebook</a>'\n",
              "            + ' to learn more about interactive tables.';\n",
              "          element.innerHTML = '';\n",
              "          dataTable['output_type'] = 'display_data';\n",
              "          await google.colab.output.renderOutput(dataTable, element);\n",
              "          const docLink = document.createElement('div');\n",
              "          docLink.innerHTML = docLinkHtml;\n",
              "          element.appendChild(docLink);\n",
              "        }\n",
              "      </script>\n",
              "    </div>\n",
              "  </div>\n",
              "  "
            ]
          },
          "metadata": {},
          "execution_count": 12
        }
      ]
    },
    {
      "cell_type": "markdown",
      "source": [
        "### Transition probabilities"
      ],
      "metadata": {
        "id": "m5ZdGrC3z2gv"
      }
    },
    {
      "cell_type": "code",
      "source": [
        "def print_dict(dictionary):\n",
        "  for key in dictionary.keys():\n",
        "    print(str(key) + \" : \" + str(dictionary[key]))"
      ],
      "metadata": {
        "id": "4aUcqFHIiHkQ"
      },
      "execution_count": 13,
      "outputs": []
    },
    {
      "cell_type": "code",
      "source": [
        "def cod_dprobs(seqs):\n",
        "  dcounts = dict(\n",
        "    zip([1, 2, 3], \n",
        "        [dict(zip([''.join(pair) for pair in product('TCAG', repeat=2)],\n",
        "                  [0] * 16)) for i in range(3)])\n",
        "    )\n",
        "  \n",
        "  # # Вывод структуры\n",
        "  # for key in dcounts.keys():\n",
        "  #     print(str(key) + \" : \" + str(dcounts[key]) + \"\\n\")\n",
        "\n",
        "  for seq in seqs:\n",
        "    for i in range(1, len(seq)):\n",
        "      dcounts[i % 3 + 1][seq[i-1:i+1]] += 1\n",
        "  return get_probs(dcounts)\n",
        "\n",
        "def ncod_dprobs(seqs):\n",
        "    dcounts =dict(zip([''.join(pair) for pair in product('TCAG', repeat=2)],\n",
        "                    [0] * 16))\n",
        "    \n",
        "    # # Вывод структуры\n",
        "    # print(\"0 : \" + str(dcounts) + '\\n')\n",
        "    \n",
        "    for seq in seqs:\n",
        "      for i in range(1, len(seq)):\n",
        "        dcounts[seq[i-1:i+1]] += 1\n",
        "      \n",
        "    return get_probs({0: dcounts})[0]\n",
        "\n",
        "def get_probs(dcounts):\n",
        "  # print_dict(dcounts)\n",
        "  \n",
        "  for pos in dcounts:\n",
        "    nuc_groups = dict(zip('TCAG', [0] * 4))\n",
        "    for dup in dcounts[pos]:\n",
        "      nuc_groups[dup[0]] += dcounts[pos][dup]\n",
        "    for dup in dcounts[pos]:\n",
        "      dcounts[pos][dup] /= nuc_groups[dup[0]]\n",
        "\n",
        "    # print(f\"Total single nucleotide count for position {pos}:\\n{nuc_groups}\")\n",
        "\n",
        "  return dcounts\n",
        "\n",
        "def make_table2(cod_seqs, ncod_seqs):\n",
        "  table2 = pd.DataFrame(cod_dprobs(cod_seqs))\n",
        "  table2[4] = pd.Series(ncod_dprobs(ncod_seqs))\n",
        "  table2.rename(columns=dict(zip(np.arange(1, 5), \n",
        "                                 [f'Codon position {i}' for i in range(1, 4)] + ['Not coding'])), \n",
        "                inplace=True)\n",
        "  return table2"
      ],
      "metadata": {
        "id": "PXMExJTij5zi"
      },
      "execution_count": 19,
      "outputs": []
    },
    {
      "cell_type": "code",
      "source": [
        "_ = ncod_dprobs(ncod)"
      ],
      "metadata": {
        "colab": {
          "base_uri": "https://localhost:8080/"
        },
        "id": "8oTSb1FtJHej",
        "outputId": "de96a8be-a2cc-4415-c566-6d777faf37e8"
      },
      "execution_count": 15,
      "outputs": [
        {
          "output_type": "stream",
          "name": "stdout",
          "text": [
            "0 : {'TT': 68888, 'TC': 45141, 'TA': 52845, 'TG': 49618, 'CT': 45800, 'CC': 38703, 'CA': 52020, 'CG': 44768, 'AT': 59200, 'AC': 45074, 'AA': 70410, 'AG': 44953, 'GT': 42696, 'GC': 52752, 'GA': 44281, 'GG': 36375}\n",
            "Total single nucleotide count for position 0:\n",
            "{'T': 216492, 'C': 181291, 'A': 219637, 'G': 176104}\n"
          ]
        }
      ]
    },
    {
      "cell_type": "code",
      "source": [
        "_ = cod_dprobs(cod)"
      ],
      "metadata": {
        "colab": {
          "base_uri": "https://localhost:8080/"
        },
        "id": "ACRUdqDTZxEX",
        "outputId": "7f8de06a-d5b8-48f9-ea26-61f45554ec0c"
      },
      "execution_count": 16,
      "outputs": [
        {
          "output_type": "stream",
          "name": "stdout",
          "text": [
            "1 : {'TT': 60956, 'TC': 62278, 'TA': 81781, 'TG': 123389, 'CT': 44983, 'CC': 38019, 'CA': 67212, 'CG': 93122, 'AT': 44260, 'AC': 47705, 'AA': 64543, 'AG': 89228, 'GT': 38665, 'GC': 67520, 'GA': 51037, 'GG': 64757}\n",
            "2 : {'TT': 94160, 'TC': 37638, 'TA': 32530, 'TG': 24536, 'CT': 53580, 'CC': 42788, 'CA': 67899, 'CG': 51255, 'AT': 89509, 'AC': 57280, 'AA': 87667, 'AG': 33225, 'GT': 71599, 'GC': 99119, 'GA': 126754, 'GG': 73024}\n",
            "3 : {'TT': 97607, 'TC': 55626, 'TA': 68318, 'TG': 87297, 'CT': 63928, 'CC': 57839, 'CA': 57840, 'CG': 57218, 'AT': 96940, 'AC': 61023, 'AA': 104180, 'AG': 52707, 'GT': 69931, 'GC': 68853, 'GA': 18017, 'GG': 25239}\n",
            "Total single nucleotide count for position 1:\n",
            "{'T': 328404, 'C': 243336, 'A': 245736, 'G': 221979}\n",
            "Total single nucleotide count for position 2:\n",
            "{'T': 188864, 'C': 215522, 'A': 267681, 'G': 370496}\n",
            "Total single nucleotide count for position 3:\n",
            "{'T': 308848, 'C': 236825, 'A': 314850, 'G': 182040}\n"
          ]
        }
      ]
    },
    {
      "cell_type": "code",
      "source": [
        "make_table2(cod, ncod)"
      ],
      "metadata": {
        "id": "fuFE8M1gyeL4",
        "outputId": "f3079ec9-9489-493b-c73b-d5e31f943e43",
        "colab": {
          "base_uri": "https://localhost:8080/",
          "height": 551
        }
      },
      "execution_count": 20,
      "outputs": [
        {
          "output_type": "execute_result",
          "data": {
            "text/plain": [
              "    Codon position 1  Codon position 2  Codon position 3  Not coding\n",
              "TT          0.185613          0.498560          0.316036    0.318201\n",
              "TC          0.189638          0.199286          0.180108    0.208511\n",
              "TA          0.249026          0.172240          0.221203    0.244097\n",
              "TG          0.375723          0.129914          0.282654    0.229191\n",
              "CT          0.184860          0.248606          0.269938    0.252633\n",
              "CC          0.156241          0.198532          0.244227    0.213486\n",
              "CA          0.276211          0.315044          0.244231    0.286942\n",
              "CG          0.382689          0.237818          0.241605    0.246940\n",
              "AT          0.180112          0.334387          0.307893    0.269536\n",
              "AC          0.194131          0.213986          0.193816    0.205220\n",
              "AA          0.262652          0.327506          0.330888    0.320574\n",
              "AG          0.363105          0.124122          0.167404    0.204670\n",
              "GT          0.174183          0.193252          0.384152    0.242448\n",
              "GC          0.304173          0.267531          0.378230    0.299550\n",
              "GA          0.229918          0.342120          0.098973    0.251448\n",
              "GG          0.291726          0.197098          0.138645    0.206554"
            ],
            "text/html": [
              "\n",
              "  <div id=\"df-8ee68caa-5841-40e6-be01-a35e9dafb2a5\">\n",
              "    <div class=\"colab-df-container\">\n",
              "      <div>\n",
              "<style scoped>\n",
              "    .dataframe tbody tr th:only-of-type {\n",
              "        vertical-align: middle;\n",
              "    }\n",
              "\n",
              "    .dataframe tbody tr th {\n",
              "        vertical-align: top;\n",
              "    }\n",
              "\n",
              "    .dataframe thead th {\n",
              "        text-align: right;\n",
              "    }\n",
              "</style>\n",
              "<table border=\"1\" class=\"dataframe\">\n",
              "  <thead>\n",
              "    <tr style=\"text-align: right;\">\n",
              "      <th></th>\n",
              "      <th>Codon position 1</th>\n",
              "      <th>Codon position 2</th>\n",
              "      <th>Codon position 3</th>\n",
              "      <th>Not coding</th>\n",
              "    </tr>\n",
              "  </thead>\n",
              "  <tbody>\n",
              "    <tr>\n",
              "      <th>TT</th>\n",
              "      <td>0.185613</td>\n",
              "      <td>0.498560</td>\n",
              "      <td>0.316036</td>\n",
              "      <td>0.318201</td>\n",
              "    </tr>\n",
              "    <tr>\n",
              "      <th>TC</th>\n",
              "      <td>0.189638</td>\n",
              "      <td>0.199286</td>\n",
              "      <td>0.180108</td>\n",
              "      <td>0.208511</td>\n",
              "    </tr>\n",
              "    <tr>\n",
              "      <th>TA</th>\n",
              "      <td>0.249026</td>\n",
              "      <td>0.172240</td>\n",
              "      <td>0.221203</td>\n",
              "      <td>0.244097</td>\n",
              "    </tr>\n",
              "    <tr>\n",
              "      <th>TG</th>\n",
              "      <td>0.375723</td>\n",
              "      <td>0.129914</td>\n",
              "      <td>0.282654</td>\n",
              "      <td>0.229191</td>\n",
              "    </tr>\n",
              "    <tr>\n",
              "      <th>CT</th>\n",
              "      <td>0.184860</td>\n",
              "      <td>0.248606</td>\n",
              "      <td>0.269938</td>\n",
              "      <td>0.252633</td>\n",
              "    </tr>\n",
              "    <tr>\n",
              "      <th>CC</th>\n",
              "      <td>0.156241</td>\n",
              "      <td>0.198532</td>\n",
              "      <td>0.244227</td>\n",
              "      <td>0.213486</td>\n",
              "    </tr>\n",
              "    <tr>\n",
              "      <th>CA</th>\n",
              "      <td>0.276211</td>\n",
              "      <td>0.315044</td>\n",
              "      <td>0.244231</td>\n",
              "      <td>0.286942</td>\n",
              "    </tr>\n",
              "    <tr>\n",
              "      <th>CG</th>\n",
              "      <td>0.382689</td>\n",
              "      <td>0.237818</td>\n",
              "      <td>0.241605</td>\n",
              "      <td>0.246940</td>\n",
              "    </tr>\n",
              "    <tr>\n",
              "      <th>AT</th>\n",
              "      <td>0.180112</td>\n",
              "      <td>0.334387</td>\n",
              "      <td>0.307893</td>\n",
              "      <td>0.269536</td>\n",
              "    </tr>\n",
              "    <tr>\n",
              "      <th>AC</th>\n",
              "      <td>0.194131</td>\n",
              "      <td>0.213986</td>\n",
              "      <td>0.193816</td>\n",
              "      <td>0.205220</td>\n",
              "    </tr>\n",
              "    <tr>\n",
              "      <th>AA</th>\n",
              "      <td>0.262652</td>\n",
              "      <td>0.327506</td>\n",
              "      <td>0.330888</td>\n",
              "      <td>0.320574</td>\n",
              "    </tr>\n",
              "    <tr>\n",
              "      <th>AG</th>\n",
              "      <td>0.363105</td>\n",
              "      <td>0.124122</td>\n",
              "      <td>0.167404</td>\n",
              "      <td>0.204670</td>\n",
              "    </tr>\n",
              "    <tr>\n",
              "      <th>GT</th>\n",
              "      <td>0.174183</td>\n",
              "      <td>0.193252</td>\n",
              "      <td>0.384152</td>\n",
              "      <td>0.242448</td>\n",
              "    </tr>\n",
              "    <tr>\n",
              "      <th>GC</th>\n",
              "      <td>0.304173</td>\n",
              "      <td>0.267531</td>\n",
              "      <td>0.378230</td>\n",
              "      <td>0.299550</td>\n",
              "    </tr>\n",
              "    <tr>\n",
              "      <th>GA</th>\n",
              "      <td>0.229918</td>\n",
              "      <td>0.342120</td>\n",
              "      <td>0.098973</td>\n",
              "      <td>0.251448</td>\n",
              "    </tr>\n",
              "    <tr>\n",
              "      <th>GG</th>\n",
              "      <td>0.291726</td>\n",
              "      <td>0.197098</td>\n",
              "      <td>0.138645</td>\n",
              "      <td>0.206554</td>\n",
              "    </tr>\n",
              "  </tbody>\n",
              "</table>\n",
              "</div>\n",
              "      <button class=\"colab-df-convert\" onclick=\"convertToInteractive('df-8ee68caa-5841-40e6-be01-a35e9dafb2a5')\"\n",
              "              title=\"Convert this dataframe to an interactive table.\"\n",
              "              style=\"display:none;\">\n",
              "        \n",
              "  <svg xmlns=\"http://www.w3.org/2000/svg\" height=\"24px\"viewBox=\"0 0 24 24\"\n",
              "       width=\"24px\">\n",
              "    <path d=\"M0 0h24v24H0V0z\" fill=\"none\"/>\n",
              "    <path d=\"M18.56 5.44l.94 2.06.94-2.06 2.06-.94-2.06-.94-.94-2.06-.94 2.06-2.06.94zm-11 1L8.5 8.5l.94-2.06 2.06-.94-2.06-.94L8.5 2.5l-.94 2.06-2.06.94zm10 10l.94 2.06.94-2.06 2.06-.94-2.06-.94-.94-2.06-.94 2.06-2.06.94z\"/><path d=\"M17.41 7.96l-1.37-1.37c-.4-.4-.92-.59-1.43-.59-.52 0-1.04.2-1.43.59L10.3 9.45l-7.72 7.72c-.78.78-.78 2.05 0 2.83L4 21.41c.39.39.9.59 1.41.59.51 0 1.02-.2 1.41-.59l7.78-7.78 2.81-2.81c.8-.78.8-2.07 0-2.86zM5.41 20L4 18.59l7.72-7.72 1.47 1.35L5.41 20z\"/>\n",
              "  </svg>\n",
              "      </button>\n",
              "      \n",
              "  <style>\n",
              "    .colab-df-container {\n",
              "      display:flex;\n",
              "      flex-wrap:wrap;\n",
              "      gap: 12px;\n",
              "    }\n",
              "\n",
              "    .colab-df-convert {\n",
              "      background-color: #E8F0FE;\n",
              "      border: none;\n",
              "      border-radius: 50%;\n",
              "      cursor: pointer;\n",
              "      display: none;\n",
              "      fill: #1967D2;\n",
              "      height: 32px;\n",
              "      padding: 0 0 0 0;\n",
              "      width: 32px;\n",
              "    }\n",
              "\n",
              "    .colab-df-convert:hover {\n",
              "      background-color: #E2EBFA;\n",
              "      box-shadow: 0px 1px 2px rgba(60, 64, 67, 0.3), 0px 1px 3px 1px rgba(60, 64, 67, 0.15);\n",
              "      fill: #174EA6;\n",
              "    }\n",
              "\n",
              "    [theme=dark] .colab-df-convert {\n",
              "      background-color: #3B4455;\n",
              "      fill: #D2E3FC;\n",
              "    }\n",
              "\n",
              "    [theme=dark] .colab-df-convert:hover {\n",
              "      background-color: #434B5C;\n",
              "      box-shadow: 0px 1px 3px 1px rgba(0, 0, 0, 0.15);\n",
              "      filter: drop-shadow(0px 1px 2px rgba(0, 0, 0, 0.3));\n",
              "      fill: #FFFFFF;\n",
              "    }\n",
              "  </style>\n",
              "\n",
              "      <script>\n",
              "        const buttonEl =\n",
              "          document.querySelector('#df-8ee68caa-5841-40e6-be01-a35e9dafb2a5 button.colab-df-convert');\n",
              "        buttonEl.style.display =\n",
              "          google.colab.kernel.accessAllowed ? 'block' : 'none';\n",
              "\n",
              "        async function convertToInteractive(key) {\n",
              "          const element = document.querySelector('#df-8ee68caa-5841-40e6-be01-a35e9dafb2a5');\n",
              "          const dataTable =\n",
              "            await google.colab.kernel.invokeFunction('convertToInteractive',\n",
              "                                                     [key], {});\n",
              "          if (!dataTable) return;\n",
              "\n",
              "          const docLinkHtml = 'Like what you see? Visit the ' +\n",
              "            '<a target=\"_blank\" href=https://colab.research.google.com/notebooks/data_table.ipynb>data table notebook</a>'\n",
              "            + ' to learn more about interactive tables.';\n",
              "          element.innerHTML = '';\n",
              "          dataTable['output_type'] = 'display_data';\n",
              "          await google.colab.output.renderOutput(dataTable, element);\n",
              "          const docLink = document.createElement('div');\n",
              "          docLink.innerHTML = docLinkHtml;\n",
              "          element.appendChild(docLink);\n",
              "        }\n",
              "      </script>\n",
              "    </div>\n",
              "  </div>\n",
              "  "
            ]
          },
          "metadata": {},
          "execution_count": 20
        }
      ]
    },
    {
      "cell_type": "code",
      "source": [
        "make_table2(cod, ncod)"
      ],
      "metadata": {
        "colab": {
          "base_uri": "https://localhost:8080/",
          "height": 779
        },
        "id": "JSeB16zvdU7F",
        "outputId": "df4edccc-87b0-47e0-8609-a1ab0ec11027"
      },
      "execution_count": 18,
      "outputs": [
        {
          "output_type": "stream",
          "name": "stdout",
          "text": [
            "1 : {'TT': 60956, 'TC': 62278, 'TA': 81781, 'TG': 123389, 'CT': 44983, 'CC': 38019, 'CA': 67212, 'CG': 93122, 'AT': 44260, 'AC': 47705, 'AA': 64543, 'AG': 89228, 'GT': 38665, 'GC': 67520, 'GA': 51037, 'GG': 64757}\n",
            "2 : {'TT': 94160, 'TC': 37638, 'TA': 32530, 'TG': 24536, 'CT': 53580, 'CC': 42788, 'CA': 67899, 'CG': 51255, 'AT': 89509, 'AC': 57280, 'AA': 87667, 'AG': 33225, 'GT': 71599, 'GC': 99119, 'GA': 126754, 'GG': 73024}\n",
            "3 : {'TT': 97607, 'TC': 55626, 'TA': 68318, 'TG': 87297, 'CT': 63928, 'CC': 57839, 'CA': 57840, 'CG': 57218, 'AT': 96940, 'AC': 61023, 'AA': 104180, 'AG': 52707, 'GT': 69931, 'GC': 68853, 'GA': 18017, 'GG': 25239}\n",
            "Total single nucleotide count for position 1:\n",
            "{'T': 328404, 'C': 243336, 'A': 245736, 'G': 221979}\n",
            "Total single nucleotide count for position 2:\n",
            "{'T': 188864, 'C': 215522, 'A': 267681, 'G': 370496}\n",
            "Total single nucleotide count for position 3:\n",
            "{'T': 308848, 'C': 236825, 'A': 314850, 'G': 182040}\n",
            "0 : {'TT': 68888, 'TC': 45141, 'TA': 52845, 'TG': 49618, 'CT': 45800, 'CC': 38703, 'CA': 52020, 'CG': 44768, 'AT': 59200, 'AC': 45074, 'AA': 70410, 'AG': 44953, 'GT': 42696, 'GC': 52752, 'GA': 44281, 'GG': 36375}\n",
            "Total single nucleotide count for position 0:\n",
            "{'T': 216492, 'C': 181291, 'A': 219637, 'G': 176104}\n"
          ]
        },
        {
          "output_type": "execute_result",
          "data": {
            "text/plain": [
              "    Codon position 1  Codon position 2  Codon position 3  Not coding\n",
              "TT          0.185613          0.498560          0.316036    0.318201\n",
              "TC          0.189638          0.199286          0.180108    0.208511\n",
              "TA          0.249026          0.172240          0.221203    0.244097\n",
              "TG          0.375723          0.129914          0.282654    0.229191\n",
              "CT          0.184860          0.248606          0.269938    0.252633\n",
              "CC          0.156241          0.198532          0.244227    0.213486\n",
              "CA          0.276211          0.315044          0.244231    0.286942\n",
              "CG          0.382689          0.237818          0.241605    0.246940\n",
              "AT          0.180112          0.334387          0.307893    0.269536\n",
              "AC          0.194131          0.213986          0.193816    0.205220\n",
              "AA          0.262652          0.327506          0.330888    0.320574\n",
              "AG          0.363105          0.124122          0.167404    0.204670\n",
              "GT          0.174183          0.193252          0.384152    0.242448\n",
              "GC          0.304173          0.267531          0.378230    0.299550\n",
              "GA          0.229918          0.342120          0.098973    0.251448\n",
              "GG          0.291726          0.197098          0.138645    0.206554"
            ],
            "text/html": [
              "\n",
              "  <div id=\"df-9b86ab70-d8dc-4bcf-b998-627a4db4e8f8\">\n",
              "    <div class=\"colab-df-container\">\n",
              "      <div>\n",
              "<style scoped>\n",
              "    .dataframe tbody tr th:only-of-type {\n",
              "        vertical-align: middle;\n",
              "    }\n",
              "\n",
              "    .dataframe tbody tr th {\n",
              "        vertical-align: top;\n",
              "    }\n",
              "\n",
              "    .dataframe thead th {\n",
              "        text-align: right;\n",
              "    }\n",
              "</style>\n",
              "<table border=\"1\" class=\"dataframe\">\n",
              "  <thead>\n",
              "    <tr style=\"text-align: right;\">\n",
              "      <th></th>\n",
              "      <th>Codon position 1</th>\n",
              "      <th>Codon position 2</th>\n",
              "      <th>Codon position 3</th>\n",
              "      <th>Not coding</th>\n",
              "    </tr>\n",
              "  </thead>\n",
              "  <tbody>\n",
              "    <tr>\n",
              "      <th>TT</th>\n",
              "      <td>0.185613</td>\n",
              "      <td>0.498560</td>\n",
              "      <td>0.316036</td>\n",
              "      <td>0.318201</td>\n",
              "    </tr>\n",
              "    <tr>\n",
              "      <th>TC</th>\n",
              "      <td>0.189638</td>\n",
              "      <td>0.199286</td>\n",
              "      <td>0.180108</td>\n",
              "      <td>0.208511</td>\n",
              "    </tr>\n",
              "    <tr>\n",
              "      <th>TA</th>\n",
              "      <td>0.249026</td>\n",
              "      <td>0.172240</td>\n",
              "      <td>0.221203</td>\n",
              "      <td>0.244097</td>\n",
              "    </tr>\n",
              "    <tr>\n",
              "      <th>TG</th>\n",
              "      <td>0.375723</td>\n",
              "      <td>0.129914</td>\n",
              "      <td>0.282654</td>\n",
              "      <td>0.229191</td>\n",
              "    </tr>\n",
              "    <tr>\n",
              "      <th>CT</th>\n",
              "      <td>0.184860</td>\n",
              "      <td>0.248606</td>\n",
              "      <td>0.269938</td>\n",
              "      <td>0.252633</td>\n",
              "    </tr>\n",
              "    <tr>\n",
              "      <th>CC</th>\n",
              "      <td>0.156241</td>\n",
              "      <td>0.198532</td>\n",
              "      <td>0.244227</td>\n",
              "      <td>0.213486</td>\n",
              "    </tr>\n",
              "    <tr>\n",
              "      <th>CA</th>\n",
              "      <td>0.276211</td>\n",
              "      <td>0.315044</td>\n",
              "      <td>0.244231</td>\n",
              "      <td>0.286942</td>\n",
              "    </tr>\n",
              "    <tr>\n",
              "      <th>CG</th>\n",
              "      <td>0.382689</td>\n",
              "      <td>0.237818</td>\n",
              "      <td>0.241605</td>\n",
              "      <td>0.246940</td>\n",
              "    </tr>\n",
              "    <tr>\n",
              "      <th>AT</th>\n",
              "      <td>0.180112</td>\n",
              "      <td>0.334387</td>\n",
              "      <td>0.307893</td>\n",
              "      <td>0.269536</td>\n",
              "    </tr>\n",
              "    <tr>\n",
              "      <th>AC</th>\n",
              "      <td>0.194131</td>\n",
              "      <td>0.213986</td>\n",
              "      <td>0.193816</td>\n",
              "      <td>0.205220</td>\n",
              "    </tr>\n",
              "    <tr>\n",
              "      <th>AA</th>\n",
              "      <td>0.262652</td>\n",
              "      <td>0.327506</td>\n",
              "      <td>0.330888</td>\n",
              "      <td>0.320574</td>\n",
              "    </tr>\n",
              "    <tr>\n",
              "      <th>AG</th>\n",
              "      <td>0.363105</td>\n",
              "      <td>0.124122</td>\n",
              "      <td>0.167404</td>\n",
              "      <td>0.204670</td>\n",
              "    </tr>\n",
              "    <tr>\n",
              "      <th>GT</th>\n",
              "      <td>0.174183</td>\n",
              "      <td>0.193252</td>\n",
              "      <td>0.384152</td>\n",
              "      <td>0.242448</td>\n",
              "    </tr>\n",
              "    <tr>\n",
              "      <th>GC</th>\n",
              "      <td>0.304173</td>\n",
              "      <td>0.267531</td>\n",
              "      <td>0.378230</td>\n",
              "      <td>0.299550</td>\n",
              "    </tr>\n",
              "    <tr>\n",
              "      <th>GA</th>\n",
              "      <td>0.229918</td>\n",
              "      <td>0.342120</td>\n",
              "      <td>0.098973</td>\n",
              "      <td>0.251448</td>\n",
              "    </tr>\n",
              "    <tr>\n",
              "      <th>GG</th>\n",
              "      <td>0.291726</td>\n",
              "      <td>0.197098</td>\n",
              "      <td>0.138645</td>\n",
              "      <td>0.206554</td>\n",
              "    </tr>\n",
              "  </tbody>\n",
              "</table>\n",
              "</div>\n",
              "      <button class=\"colab-df-convert\" onclick=\"convertToInteractive('df-9b86ab70-d8dc-4bcf-b998-627a4db4e8f8')\"\n",
              "              title=\"Convert this dataframe to an interactive table.\"\n",
              "              style=\"display:none;\">\n",
              "        \n",
              "  <svg xmlns=\"http://www.w3.org/2000/svg\" height=\"24px\"viewBox=\"0 0 24 24\"\n",
              "       width=\"24px\">\n",
              "    <path d=\"M0 0h24v24H0V0z\" fill=\"none\"/>\n",
              "    <path d=\"M18.56 5.44l.94 2.06.94-2.06 2.06-.94-2.06-.94-.94-2.06-.94 2.06-2.06.94zm-11 1L8.5 8.5l.94-2.06 2.06-.94-2.06-.94L8.5 2.5l-.94 2.06-2.06.94zm10 10l.94 2.06.94-2.06 2.06-.94-2.06-.94-.94-2.06-.94 2.06-2.06.94z\"/><path d=\"M17.41 7.96l-1.37-1.37c-.4-.4-.92-.59-1.43-.59-.52 0-1.04.2-1.43.59L10.3 9.45l-7.72 7.72c-.78.78-.78 2.05 0 2.83L4 21.41c.39.39.9.59 1.41.59.51 0 1.02-.2 1.41-.59l7.78-7.78 2.81-2.81c.8-.78.8-2.07 0-2.86zM5.41 20L4 18.59l7.72-7.72 1.47 1.35L5.41 20z\"/>\n",
              "  </svg>\n",
              "      </button>\n",
              "      \n",
              "  <style>\n",
              "    .colab-df-container {\n",
              "      display:flex;\n",
              "      flex-wrap:wrap;\n",
              "      gap: 12px;\n",
              "    }\n",
              "\n",
              "    .colab-df-convert {\n",
              "      background-color: #E8F0FE;\n",
              "      border: none;\n",
              "      border-radius: 50%;\n",
              "      cursor: pointer;\n",
              "      display: none;\n",
              "      fill: #1967D2;\n",
              "      height: 32px;\n",
              "      padding: 0 0 0 0;\n",
              "      width: 32px;\n",
              "    }\n",
              "\n",
              "    .colab-df-convert:hover {\n",
              "      background-color: #E2EBFA;\n",
              "      box-shadow: 0px 1px 2px rgba(60, 64, 67, 0.3), 0px 1px 3px 1px rgba(60, 64, 67, 0.15);\n",
              "      fill: #174EA6;\n",
              "    }\n",
              "\n",
              "    [theme=dark] .colab-df-convert {\n",
              "      background-color: #3B4455;\n",
              "      fill: #D2E3FC;\n",
              "    }\n",
              "\n",
              "    [theme=dark] .colab-df-convert:hover {\n",
              "      background-color: #434B5C;\n",
              "      box-shadow: 0px 1px 3px 1px rgba(0, 0, 0, 0.15);\n",
              "      filter: drop-shadow(0px 1px 2px rgba(0, 0, 0, 0.3));\n",
              "      fill: #FFFFFF;\n",
              "    }\n",
              "  </style>\n",
              "\n",
              "      <script>\n",
              "        const buttonEl =\n",
              "          document.querySelector('#df-9b86ab70-d8dc-4bcf-b998-627a4db4e8f8 button.colab-df-convert');\n",
              "        buttonEl.style.display =\n",
              "          google.colab.kernel.accessAllowed ? 'block' : 'none';\n",
              "\n",
              "        async function convertToInteractive(key) {\n",
              "          const element = document.querySelector('#df-9b86ab70-d8dc-4bcf-b998-627a4db4e8f8');\n",
              "          const dataTable =\n",
              "            await google.colab.kernel.invokeFunction('convertToInteractive',\n",
              "                                                     [key], {});\n",
              "          if (!dataTable) return;\n",
              "\n",
              "          const docLinkHtml = 'Like what you see? Visit the ' +\n",
              "            '<a target=\"_blank\" href=https://colab.research.google.com/notebooks/data_table.ipynb>data table notebook</a>'\n",
              "            + ' to learn more about interactive tables.';\n",
              "          element.innerHTML = '';\n",
              "          dataTable['output_type'] = 'display_data';\n",
              "          await google.colab.output.renderOutput(dataTable, element);\n",
              "          const docLink = document.createElement('div');\n",
              "          docLink.innerHTML = docLinkHtml;\n",
              "          element.appendChild(docLink);\n",
              "        }\n",
              "      </script>\n",
              "    </div>\n",
              "  </div>\n",
              "  "
            ]
          },
          "metadata": {},
          "execution_count": 18
        }
      ]
    },
    {
      "cell_type": "code",
      "source": [],
      "metadata": {
        "id": "NEHtHx6gdVSU"
      },
      "execution_count": 18,
      "outputs": []
    }
  ]
}