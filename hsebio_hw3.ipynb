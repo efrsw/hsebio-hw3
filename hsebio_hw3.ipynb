{
  "nbformat": 4,
  "nbformat_minor": 0,
  "metadata": {
    "colab": {
      "provenance": [],
      "include_colab_link": true
    },
    "kernelspec": {
      "name": "python3",
      "display_name": "Python 3"
    },
    "language_info": {
      "name": "python"
    }
  },
  "cells": [
    {
      "cell_type": "markdown",
      "metadata": {
        "id": "view-in-github",
        "colab_type": "text"
      },
      "source": [
        "<a href=\"https://colab.research.google.com/github/efrsw/hsebio-hw3/blob/naive-bayes/hsebio_hw3.ipynb\" target=\"_parent\"><img src=\"https://colab.research.google.com/assets/colab-badge.svg\" alt=\"Open In Colab\"/></a>"
      ]
    },
    {
      "cell_type": "markdown",
      "source": [
        "### Загрузка данных"
      ],
      "metadata": {
        "id": "R25qwtEyVx2z"
      }
    },
    {
      "cell_type": "code",
      "execution_count": 1,
      "metadata": {
        "id": "h06a6zdDVv1i",
        "colab": {
          "base_uri": "https://localhost:8080/"
        },
        "outputId": "fdf6f19c-07e6-40e2-f058-8f9a974806c2"
      },
      "outputs": [
        {
          "output_type": "stream",
          "name": "stdout",
          "text": [
            "--2022-10-18 14:08:38--  https://ftp.ncbi.nlm.nih.gov/genomes/all/GCF/000/355/675/GCF_000355675.1_ASM35567v1/GCF_000355675.1_ASM35567v1_genomic.fna.gz\n",
            "Resolving ftp.ncbi.nlm.nih.gov (ftp.ncbi.nlm.nih.gov)... 130.14.250.10, 130.14.250.11, 2607:f220:41e:250::10, ...\n",
            "Connecting to ftp.ncbi.nlm.nih.gov (ftp.ncbi.nlm.nih.gov)|130.14.250.10|:443... connected.\n",
            "HTTP request sent, awaiting response... 200 OK\n",
            "Length: 1168222 (1.1M) [application/x-gzip]\n",
            "Saving to: ‘GCF_000355675.1_ASM35567v1_genomic.fna.gz’\n",
            "\n",
            "\r          GCF_00035   0%[                    ]       0  --.-KB/s               \rGCF_000355675.1_ASM 100%[===================>]   1.11M  --.-KB/s    in 0.09s   \n",
            "\n",
            "2022-10-18 14:08:38 (12.9 MB/s) - ‘GCF_000355675.1_ASM35567v1_genomic.fna.gz’ saved [1168222/1168222]\n",
            "\n",
            "--2022-10-18 14:08:38--  https://ftp.ncbi.nlm.nih.gov/genomes/all/GCF/000/355/675/GCF_000355675.1_ASM35567v1/GCF_000355675.1_ASM35567v1_genomic.gbff.gz\n",
            "Resolving ftp.ncbi.nlm.nih.gov (ftp.ncbi.nlm.nih.gov)... 130.14.250.10, 130.14.250.11, 2607:f220:41e:250::10, ...\n",
            "Connecting to ftp.ncbi.nlm.nih.gov (ftp.ncbi.nlm.nih.gov)|130.14.250.10|:443... connected.\n",
            "HTTP request sent, awaiting response... 200 OK\n",
            "Length: 2796038 (2.7M) [application/x-gzip]\n",
            "Saving to: ‘GCF_000355675.1_ASM35567v1_genomic.gbff.gz’\n",
            "\n",
            "GCF_000355675.1_ASM 100%[===================>]   2.67M  --.-KB/s    in 0.1s    \n",
            "\n",
            "2022-10-18 14:08:39 (21.0 MB/s) - ‘GCF_000355675.1_ASM35567v1_genomic.gbff.gz’ saved [2796038/2796038]\n",
            "\n"
          ]
        }
      ],
      "source": [
        "import gzip\n",
        "\n",
        "!wget 'https://ftp.ncbi.nlm.nih.gov/genomes/all/GCF/000/355/675/GCF_000355675.1_ASM35567v1/GCF_000355675.1_ASM35567v1_genomic.fna.gz'\n",
        "!wget 'https://ftp.ncbi.nlm.nih.gov/genomes/all/GCF/000/355/675/GCF_000355675.1_ASM35567v1/GCF_000355675.1_ASM35567v1_genomic.gbff.gz'\n",
        "\n",
        "!gunzip GCF_000355675.1_ASM35567v1_genomic.fna.gz\n",
        "!gunzip GCF_000355675.1_ASM35567v1_genomic.gbff.gz"
      ]
    },
    {
      "cell_type": "markdown",
      "source": [
        "### Reading sequences"
      ],
      "metadata": {
        "id": "PRI3rBPwsAnG"
      }
    },
    {
      "cell_type": "code",
      "source": [
        "!pip install bio"
      ],
      "metadata": {
        "colab": {
          "base_uri": "https://localhost:8080/"
        },
        "id": "DhTpHAOFsij8",
        "outputId": "9632d9f7-1163-491e-c751-0fc9daea5c77"
      },
      "execution_count": 2,
      "outputs": [
        {
          "output_type": "stream",
          "name": "stdout",
          "text": [
            "Looking in indexes: https://pypi.org/simple, https://us-python.pkg.dev/colab-wheels/public/simple/\n",
            "Collecting bio\n",
            "  Downloading bio-1.4.0-py3-none-any.whl (270 kB)\n",
            "\u001b[K     |████████████████████████████████| 270 kB 5.3 MB/s \n",
            "\u001b[?25hRequirement already satisfied: requests in /usr/local/lib/python3.7/dist-packages (from bio) (2.23.0)\n",
            "Collecting biopython>=1.79\n",
            "  Downloading biopython-1.79-cp37-cp37m-manylinux_2_17_x86_64.manylinux2014_x86_64.whl (2.6 MB)\n",
            "\u001b[K     |████████████████████████████████| 2.6 MB 55.2 MB/s \n",
            "\u001b[?25hCollecting mygene\n",
            "  Downloading mygene-3.2.2-py2.py3-none-any.whl (5.4 kB)\n",
            "Requirement already satisfied: tqdm in /usr/local/lib/python3.7/dist-packages (from bio) (4.64.1)\n",
            "Requirement already satisfied: numpy in /usr/local/lib/python3.7/dist-packages (from biopython>=1.79->bio) (1.21.6)\n",
            "Collecting biothings-client>=0.2.6\n",
            "  Downloading biothings_client-0.2.6-py2.py3-none-any.whl (37 kB)\n",
            "Requirement already satisfied: idna<3,>=2.5 in /usr/local/lib/python3.7/dist-packages (from requests->bio) (2.10)\n",
            "Requirement already satisfied: certifi>=2017.4.17 in /usr/local/lib/python3.7/dist-packages (from requests->bio) (2022.9.24)\n",
            "Requirement already satisfied: urllib3!=1.25.0,!=1.25.1,<1.26,>=1.21.1 in /usr/local/lib/python3.7/dist-packages (from requests->bio) (1.24.3)\n",
            "Requirement already satisfied: chardet<4,>=3.0.2 in /usr/local/lib/python3.7/dist-packages (from requests->bio) (3.0.4)\n",
            "Installing collected packages: biothings-client, mygene, biopython, bio\n",
            "Successfully installed bio-1.4.0 biopython-1.79 biothings-client-0.2.6 mygene-3.2.2\n"
          ]
        }
      ]
    },
    {
      "cell_type": "code",
      "source": [
        "from Bio import SeqIO\n",
        "import numpy as np\n",
        "import pandas as pd\n",
        "from itertools import product\n",
        "import matplotlib.pyplot as plt\n",
        "\n",
        "seq = None\n",
        "gb = None\n",
        "\n",
        "for record in SeqIO.parse(\"/content/GCF_000355675.1_ASM35567v1_genomic.fna\", \"fasta\"):\n",
        "    seq = record.seq\n",
        "\n",
        "for record in SeqIO.parse('/content/GCF_000355675.1_ASM35567v1_genomic.gbff', 'genbank'):\n",
        "  gb = record"
      ],
      "metadata": {
        "id": "Hdfqxf6GsU2f"
      },
      "execution_count": 118,
      "outputs": []
    },
    {
      "cell_type": "code",
      "source": [
        "# [)\n",
        "# strand is reversed automatically\n",
        "# only seqs that starts with ATG taken\n",
        "\n",
        "start, end = gb.features[0].location.start, None\n",
        "\n",
        "ncod = []\n",
        "cod = []\n",
        "\n",
        "for i in range(len(gb.features)):\n",
        "  feature = gb.features[i]\n",
        "  fseq = feature.extract(seq)\n",
        "\n",
        "  end = feature.location.start\n",
        "\n",
        "  if feature.type == 'CDS' and fseq[:3] == 'ATG' and len(fseq) % 3 == 0:\n",
        "    cod.append(fseq.__str__())\n",
        "\n",
        "    if len(seq[start:end]) != 0:\n",
        "      ncod.append(seq[start:end].__str__())\n",
        "\n",
        "    start = feature.location.end"
      ],
      "metadata": {
        "id": "sH7bFKCUivKk"
      },
      "execution_count": 4,
      "outputs": []
    },
    {
      "cell_type": "markdown",
      "source": [
        "### Initial probabilities"
      ],
      "metadata": {
        "id": "edXl5ImIzxzu"
      }
    },
    {
      "cell_type": "code",
      "source": [
        "def seq_probs(seq):\n",
        "  return np.array([\n",
        "      seq.count('T'), seq.count('C'), \n",
        "      seq.count('A'), seq.count('G')\n",
        "    ]) / len(seq)\n",
        "\n",
        "def cod_probs(seq):\n",
        "  res = []\n",
        "  for i in range(3):\n",
        "    res.append(seq_probs(seq[i::3]))\n",
        "  return np.array(res)\n",
        "\n",
        "def make_table1(cod_seqs, ncod_seqs):\n",
        "  table1 = pd.DataFrame(np.vstack((cod_probs(''.join(cod_seqs)), seq_probs(''.join(ncod_seqs)))).T, \n",
        "                       index=['T', 'C', 'A', 'G'], \n",
        "                       columns=[f'pos{i}' for i in range(1, 4)] + ['nc'])\n",
        "  return table1"
      ],
      "metadata": {
        "id": "Oa8Kgj4fuQwo"
      },
      "execution_count": 64,
      "outputs": []
    },
    {
      "cell_type": "code",
      "source": [
        "t1 = make_table1(cod, ncod)\n",
        "t1"
      ],
      "metadata": {
        "id": "vZeDJBqfzTJf",
        "outputId": "d3d06cff-6581-4819-f670-7a6c781203e4",
        "colab": {
          "base_uri": "https://localhost:8080/",
          "height": 175
        }
      },
      "execution_count": 66,
      "outputs": [
        {
          "output_type": "execute_result",
          "data": {
            "text/plain": [
              "       pos1      pos2      pos3        nc\n",
              "T  0.181154  0.296239  0.314999  0.272921\n",
              "C  0.206723  0.227157  0.233407  0.228630\n",
              "A  0.256753  0.301996  0.238216  0.276787\n",
              "G  0.355370  0.174608  0.213379  0.221662"
            ],
            "text/html": [
              "\n",
              "  <div id=\"df-697dd885-16b9-4ba1-879d-ed86347ba553\">\n",
              "    <div class=\"colab-df-container\">\n",
              "      <div>\n",
              "<style scoped>\n",
              "    .dataframe tbody tr th:only-of-type {\n",
              "        vertical-align: middle;\n",
              "    }\n",
              "\n",
              "    .dataframe tbody tr th {\n",
              "        vertical-align: top;\n",
              "    }\n",
              "\n",
              "    .dataframe thead th {\n",
              "        text-align: right;\n",
              "    }\n",
              "</style>\n",
              "<table border=\"1\" class=\"dataframe\">\n",
              "  <thead>\n",
              "    <tr style=\"text-align: right;\">\n",
              "      <th></th>\n",
              "      <th>pos1</th>\n",
              "      <th>pos2</th>\n",
              "      <th>pos3</th>\n",
              "      <th>nc</th>\n",
              "    </tr>\n",
              "  </thead>\n",
              "  <tbody>\n",
              "    <tr>\n",
              "      <th>T</th>\n",
              "      <td>0.181154</td>\n",
              "      <td>0.296239</td>\n",
              "      <td>0.314999</td>\n",
              "      <td>0.272921</td>\n",
              "    </tr>\n",
              "    <tr>\n",
              "      <th>C</th>\n",
              "      <td>0.206723</td>\n",
              "      <td>0.227157</td>\n",
              "      <td>0.233407</td>\n",
              "      <td>0.228630</td>\n",
              "    </tr>\n",
              "    <tr>\n",
              "      <th>A</th>\n",
              "      <td>0.256753</td>\n",
              "      <td>0.301996</td>\n",
              "      <td>0.238216</td>\n",
              "      <td>0.276787</td>\n",
              "    </tr>\n",
              "    <tr>\n",
              "      <th>G</th>\n",
              "      <td>0.355370</td>\n",
              "      <td>0.174608</td>\n",
              "      <td>0.213379</td>\n",
              "      <td>0.221662</td>\n",
              "    </tr>\n",
              "  </tbody>\n",
              "</table>\n",
              "</div>\n",
              "      <button class=\"colab-df-convert\" onclick=\"convertToInteractive('df-697dd885-16b9-4ba1-879d-ed86347ba553')\"\n",
              "              title=\"Convert this dataframe to an interactive table.\"\n",
              "              style=\"display:none;\">\n",
              "        \n",
              "  <svg xmlns=\"http://www.w3.org/2000/svg\" height=\"24px\"viewBox=\"0 0 24 24\"\n",
              "       width=\"24px\">\n",
              "    <path d=\"M0 0h24v24H0V0z\" fill=\"none\"/>\n",
              "    <path d=\"M18.56 5.44l.94 2.06.94-2.06 2.06-.94-2.06-.94-.94-2.06-.94 2.06-2.06.94zm-11 1L8.5 8.5l.94-2.06 2.06-.94-2.06-.94L8.5 2.5l-.94 2.06-2.06.94zm10 10l.94 2.06.94-2.06 2.06-.94-2.06-.94-.94-2.06-.94 2.06-2.06.94z\"/><path d=\"M17.41 7.96l-1.37-1.37c-.4-.4-.92-.59-1.43-.59-.52 0-1.04.2-1.43.59L10.3 9.45l-7.72 7.72c-.78.78-.78 2.05 0 2.83L4 21.41c.39.39.9.59 1.41.59.51 0 1.02-.2 1.41-.59l7.78-7.78 2.81-2.81c.8-.78.8-2.07 0-2.86zM5.41 20L4 18.59l7.72-7.72 1.47 1.35L5.41 20z\"/>\n",
              "  </svg>\n",
              "      </button>\n",
              "      \n",
              "  <style>\n",
              "    .colab-df-container {\n",
              "      display:flex;\n",
              "      flex-wrap:wrap;\n",
              "      gap: 12px;\n",
              "    }\n",
              "\n",
              "    .colab-df-convert {\n",
              "      background-color: #E8F0FE;\n",
              "      border: none;\n",
              "      border-radius: 50%;\n",
              "      cursor: pointer;\n",
              "      display: none;\n",
              "      fill: #1967D2;\n",
              "      height: 32px;\n",
              "      padding: 0 0 0 0;\n",
              "      width: 32px;\n",
              "    }\n",
              "\n",
              "    .colab-df-convert:hover {\n",
              "      background-color: #E2EBFA;\n",
              "      box-shadow: 0px 1px 2px rgba(60, 64, 67, 0.3), 0px 1px 3px 1px rgba(60, 64, 67, 0.15);\n",
              "      fill: #174EA6;\n",
              "    }\n",
              "\n",
              "    [theme=dark] .colab-df-convert {\n",
              "      background-color: #3B4455;\n",
              "      fill: #D2E3FC;\n",
              "    }\n",
              "\n",
              "    [theme=dark] .colab-df-convert:hover {\n",
              "      background-color: #434B5C;\n",
              "      box-shadow: 0px 1px 3px 1px rgba(0, 0, 0, 0.15);\n",
              "      filter: drop-shadow(0px 1px 2px rgba(0, 0, 0, 0.3));\n",
              "      fill: #FFFFFF;\n",
              "    }\n",
              "  </style>\n",
              "\n",
              "      <script>\n",
              "        const buttonEl =\n",
              "          document.querySelector('#df-697dd885-16b9-4ba1-879d-ed86347ba553 button.colab-df-convert');\n",
              "        buttonEl.style.display =\n",
              "          google.colab.kernel.accessAllowed ? 'block' : 'none';\n",
              "\n",
              "        async function convertToInteractive(key) {\n",
              "          const element = document.querySelector('#df-697dd885-16b9-4ba1-879d-ed86347ba553');\n",
              "          const dataTable =\n",
              "            await google.colab.kernel.invokeFunction('convertToInteractive',\n",
              "                                                     [key], {});\n",
              "          if (!dataTable) return;\n",
              "\n",
              "          const docLinkHtml = 'Like what you see? Visit the ' +\n",
              "            '<a target=\"_blank\" href=https://colab.research.google.com/notebooks/data_table.ipynb>data table notebook</a>'\n",
              "            + ' to learn more about interactive tables.';\n",
              "          element.innerHTML = '';\n",
              "          dataTable['output_type'] = 'display_data';\n",
              "          await google.colab.output.renderOutput(dataTable, element);\n",
              "          const docLink = document.createElement('div');\n",
              "          docLink.innerHTML = docLinkHtml;\n",
              "          element.appendChild(docLink);\n",
              "        }\n",
              "      </script>\n",
              "    </div>\n",
              "  </div>\n",
              "  "
            ]
          },
          "metadata": {},
          "execution_count": 66
        }
      ]
    },
    {
      "cell_type": "markdown",
      "source": [
        "### Transition probabilities"
      ],
      "metadata": {
        "id": "m5ZdGrC3z2gv"
      }
    },
    {
      "cell_type": "code",
      "source": [
        "def prob_notation(st):\n",
        "  return st[1] + '|' + st[0]\n",
        "\n",
        "def cod_dprobs(seqs):\n",
        "  dcounts = dict(\n",
        "    zip([1, 2, 3], \n",
        "        [dict(zip([''.join(pair) for pair in product('TCAG', repeat=2)],\n",
        "                  [0] * 16)) for i in range(3)])\n",
        "    )\n",
        "  for seq in seqs:\n",
        "    for i in range(1, len(seq)):\n",
        "      dcounts[i % 3 + 1][seq[i-1:i+1]] += 1\n",
        "  return get_probs(dcounts)\n",
        "\n",
        "def ncod_dprobs(seqs):\n",
        "    dcounts =dict(zip([''.join(pair) for pair in product('TCAG', repeat=2)],\n",
        "                    [0] * 16))\n",
        "    for seq in seqs:\n",
        "      for i in range(1, len(seq)):\n",
        "        dcounts[seq[i-1:i+1]] += 1\n",
        "        \n",
        "    return get_probs({0: dcounts})[0]\n",
        "\n",
        "def get_probs(dcounts):\n",
        "  for pos in dcounts:\n",
        "    nuc_groups = dict(zip('TCAG', [0] * 4))\n",
        "    for dup in dcounts[pos]:\n",
        "      nuc_groups[dup[0]] += dcounts[pos][dup]\n",
        "    for dup in dcounts[pos]:\n",
        "      dcounts[pos][dup] /= nuc_groups[dup[0]]\n",
        "  return dcounts\n",
        "\n",
        "def make_table2(cod_seqs, ncod_seqs):\n",
        "  table2 = pd.DataFrame(cod_dprobs(cod_seqs))\n",
        "  table2[4] = pd.Series(ncod_dprobs(ncod_seqs))\n",
        "  table2.rename(columns=dict(zip(np.arange(1, 5), \n",
        "                                 [f'pos{i}' for i in range(1, 4)] + ['nc'])),\n",
        "                inplace=True)\n",
        "  table2.index = [prob_notation(idx) for idx in table2.index.values]\n",
        "  return table2"
      ],
      "metadata": {
        "id": "PXMExJTij5zi"
      },
      "execution_count": 46,
      "outputs": []
    },
    {
      "cell_type": "code",
      "source": [
        "t2 = make_table2(cod, ncod)\n",
        "t2"
      ],
      "metadata": {
        "id": "fuFE8M1gyeL4",
        "outputId": "22131044-3f7e-4574-e8e2-84bc9ab18297",
        "colab": {
          "base_uri": "https://localhost:8080/",
          "height": 551
        }
      },
      "execution_count": 48,
      "outputs": [
        {
          "output_type": "execute_result",
          "data": {
            "text/plain": [
              "         pos1      pos2      pos3        nc\n",
              "T|T  0.185613  0.498560  0.316036  0.318201\n",
              "C|T  0.189638  0.199286  0.180108  0.208511\n",
              "A|T  0.249026  0.172240  0.221203  0.244097\n",
              "G|T  0.375723  0.129914  0.282654  0.229191\n",
              "T|C  0.184860  0.248606  0.269938  0.252633\n",
              "C|C  0.156241  0.198532  0.244227  0.213486\n",
              "A|C  0.276211  0.315044  0.244231  0.286942\n",
              "G|C  0.382689  0.237818  0.241605  0.246940\n",
              "T|A  0.180112  0.334387  0.307893  0.269536\n",
              "C|A  0.194131  0.213986  0.193816  0.205220\n",
              "A|A  0.262652  0.327506  0.330888  0.320574\n",
              "G|A  0.363105  0.124122  0.167404  0.204670\n",
              "T|G  0.174183  0.193252  0.384152  0.242448\n",
              "C|G  0.304173  0.267531  0.378230  0.299550\n",
              "A|G  0.229918  0.342120  0.098973  0.251448\n",
              "G|G  0.291726  0.197098  0.138645  0.206554"
            ],
            "text/html": [
              "\n",
              "  <div id=\"df-bfb118f8-6d36-47ca-bd8d-4b42deda0fdd\">\n",
              "    <div class=\"colab-df-container\">\n",
              "      <div>\n",
              "<style scoped>\n",
              "    .dataframe tbody tr th:only-of-type {\n",
              "        vertical-align: middle;\n",
              "    }\n",
              "\n",
              "    .dataframe tbody tr th {\n",
              "        vertical-align: top;\n",
              "    }\n",
              "\n",
              "    .dataframe thead th {\n",
              "        text-align: right;\n",
              "    }\n",
              "</style>\n",
              "<table border=\"1\" class=\"dataframe\">\n",
              "  <thead>\n",
              "    <tr style=\"text-align: right;\">\n",
              "      <th></th>\n",
              "      <th>pos1</th>\n",
              "      <th>pos2</th>\n",
              "      <th>pos3</th>\n",
              "      <th>nc</th>\n",
              "    </tr>\n",
              "  </thead>\n",
              "  <tbody>\n",
              "    <tr>\n",
              "      <th>T|T</th>\n",
              "      <td>0.185613</td>\n",
              "      <td>0.498560</td>\n",
              "      <td>0.316036</td>\n",
              "      <td>0.318201</td>\n",
              "    </tr>\n",
              "    <tr>\n",
              "      <th>C|T</th>\n",
              "      <td>0.189638</td>\n",
              "      <td>0.199286</td>\n",
              "      <td>0.180108</td>\n",
              "      <td>0.208511</td>\n",
              "    </tr>\n",
              "    <tr>\n",
              "      <th>A|T</th>\n",
              "      <td>0.249026</td>\n",
              "      <td>0.172240</td>\n",
              "      <td>0.221203</td>\n",
              "      <td>0.244097</td>\n",
              "    </tr>\n",
              "    <tr>\n",
              "      <th>G|T</th>\n",
              "      <td>0.375723</td>\n",
              "      <td>0.129914</td>\n",
              "      <td>0.282654</td>\n",
              "      <td>0.229191</td>\n",
              "    </tr>\n",
              "    <tr>\n",
              "      <th>T|C</th>\n",
              "      <td>0.184860</td>\n",
              "      <td>0.248606</td>\n",
              "      <td>0.269938</td>\n",
              "      <td>0.252633</td>\n",
              "    </tr>\n",
              "    <tr>\n",
              "      <th>C|C</th>\n",
              "      <td>0.156241</td>\n",
              "      <td>0.198532</td>\n",
              "      <td>0.244227</td>\n",
              "      <td>0.213486</td>\n",
              "    </tr>\n",
              "    <tr>\n",
              "      <th>A|C</th>\n",
              "      <td>0.276211</td>\n",
              "      <td>0.315044</td>\n",
              "      <td>0.244231</td>\n",
              "      <td>0.286942</td>\n",
              "    </tr>\n",
              "    <tr>\n",
              "      <th>G|C</th>\n",
              "      <td>0.382689</td>\n",
              "      <td>0.237818</td>\n",
              "      <td>0.241605</td>\n",
              "      <td>0.246940</td>\n",
              "    </tr>\n",
              "    <tr>\n",
              "      <th>T|A</th>\n",
              "      <td>0.180112</td>\n",
              "      <td>0.334387</td>\n",
              "      <td>0.307893</td>\n",
              "      <td>0.269536</td>\n",
              "    </tr>\n",
              "    <tr>\n",
              "      <th>C|A</th>\n",
              "      <td>0.194131</td>\n",
              "      <td>0.213986</td>\n",
              "      <td>0.193816</td>\n",
              "      <td>0.205220</td>\n",
              "    </tr>\n",
              "    <tr>\n",
              "      <th>A|A</th>\n",
              "      <td>0.262652</td>\n",
              "      <td>0.327506</td>\n",
              "      <td>0.330888</td>\n",
              "      <td>0.320574</td>\n",
              "    </tr>\n",
              "    <tr>\n",
              "      <th>G|A</th>\n",
              "      <td>0.363105</td>\n",
              "      <td>0.124122</td>\n",
              "      <td>0.167404</td>\n",
              "      <td>0.204670</td>\n",
              "    </tr>\n",
              "    <tr>\n",
              "      <th>T|G</th>\n",
              "      <td>0.174183</td>\n",
              "      <td>0.193252</td>\n",
              "      <td>0.384152</td>\n",
              "      <td>0.242448</td>\n",
              "    </tr>\n",
              "    <tr>\n",
              "      <th>C|G</th>\n",
              "      <td>0.304173</td>\n",
              "      <td>0.267531</td>\n",
              "      <td>0.378230</td>\n",
              "      <td>0.299550</td>\n",
              "    </tr>\n",
              "    <tr>\n",
              "      <th>A|G</th>\n",
              "      <td>0.229918</td>\n",
              "      <td>0.342120</td>\n",
              "      <td>0.098973</td>\n",
              "      <td>0.251448</td>\n",
              "    </tr>\n",
              "    <tr>\n",
              "      <th>G|G</th>\n",
              "      <td>0.291726</td>\n",
              "      <td>0.197098</td>\n",
              "      <td>0.138645</td>\n",
              "      <td>0.206554</td>\n",
              "    </tr>\n",
              "  </tbody>\n",
              "</table>\n",
              "</div>\n",
              "      <button class=\"colab-df-convert\" onclick=\"convertToInteractive('df-bfb118f8-6d36-47ca-bd8d-4b42deda0fdd')\"\n",
              "              title=\"Convert this dataframe to an interactive table.\"\n",
              "              style=\"display:none;\">\n",
              "        \n",
              "  <svg xmlns=\"http://www.w3.org/2000/svg\" height=\"24px\"viewBox=\"0 0 24 24\"\n",
              "       width=\"24px\">\n",
              "    <path d=\"M0 0h24v24H0V0z\" fill=\"none\"/>\n",
              "    <path d=\"M18.56 5.44l.94 2.06.94-2.06 2.06-.94-2.06-.94-.94-2.06-.94 2.06-2.06.94zm-11 1L8.5 8.5l.94-2.06 2.06-.94-2.06-.94L8.5 2.5l-.94 2.06-2.06.94zm10 10l.94 2.06.94-2.06 2.06-.94-2.06-.94-.94-2.06-.94 2.06-2.06.94z\"/><path d=\"M17.41 7.96l-1.37-1.37c-.4-.4-.92-.59-1.43-.59-.52 0-1.04.2-1.43.59L10.3 9.45l-7.72 7.72c-.78.78-.78 2.05 0 2.83L4 21.41c.39.39.9.59 1.41.59.51 0 1.02-.2 1.41-.59l7.78-7.78 2.81-2.81c.8-.78.8-2.07 0-2.86zM5.41 20L4 18.59l7.72-7.72 1.47 1.35L5.41 20z\"/>\n",
              "  </svg>\n",
              "      </button>\n",
              "      \n",
              "  <style>\n",
              "    .colab-df-container {\n",
              "      display:flex;\n",
              "      flex-wrap:wrap;\n",
              "      gap: 12px;\n",
              "    }\n",
              "\n",
              "    .colab-df-convert {\n",
              "      background-color: #E8F0FE;\n",
              "      border: none;\n",
              "      border-radius: 50%;\n",
              "      cursor: pointer;\n",
              "      display: none;\n",
              "      fill: #1967D2;\n",
              "      height: 32px;\n",
              "      padding: 0 0 0 0;\n",
              "      width: 32px;\n",
              "    }\n",
              "\n",
              "    .colab-df-convert:hover {\n",
              "      background-color: #E2EBFA;\n",
              "      box-shadow: 0px 1px 2px rgba(60, 64, 67, 0.3), 0px 1px 3px 1px rgba(60, 64, 67, 0.15);\n",
              "      fill: #174EA6;\n",
              "    }\n",
              "\n",
              "    [theme=dark] .colab-df-convert {\n",
              "      background-color: #3B4455;\n",
              "      fill: #D2E3FC;\n",
              "    }\n",
              "\n",
              "    [theme=dark] .colab-df-convert:hover {\n",
              "      background-color: #434B5C;\n",
              "      box-shadow: 0px 1px 3px 1px rgba(0, 0, 0, 0.15);\n",
              "      filter: drop-shadow(0px 1px 2px rgba(0, 0, 0, 0.3));\n",
              "      fill: #FFFFFF;\n",
              "    }\n",
              "  </style>\n",
              "\n",
              "      <script>\n",
              "        const buttonEl =\n",
              "          document.querySelector('#df-bfb118f8-6d36-47ca-bd8d-4b42deda0fdd button.colab-df-convert');\n",
              "        buttonEl.style.display =\n",
              "          google.colab.kernel.accessAllowed ? 'block' : 'none';\n",
              "\n",
              "        async function convertToInteractive(key) {\n",
              "          const element = document.querySelector('#df-bfb118f8-6d36-47ca-bd8d-4b42deda0fdd');\n",
              "          const dataTable =\n",
              "            await google.colab.kernel.invokeFunction('convertToInteractive',\n",
              "                                                     [key], {});\n",
              "          if (!dataTable) return;\n",
              "\n",
              "          const docLinkHtml = 'Like what you see? Visit the ' +\n",
              "            '<a target=\"_blank\" href=https://colab.research.google.com/notebooks/data_table.ipynb>data table notebook</a>'\n",
              "            + ' to learn more about interactive tables.';\n",
              "          element.innerHTML = '';\n",
              "          dataTable['output_type'] = 'display_data';\n",
              "          await google.colab.output.renderOutput(dataTable, element);\n",
              "          const docLink = document.createElement('div');\n",
              "          docLink.innerHTML = docLinkHtml;\n",
              "          element.appendChild(docLink);\n",
              "        }\n",
              "      </script>\n",
              "    </div>\n",
              "  </div>\n",
              "  "
            ]
          },
          "metadata": {},
          "execution_count": 48
        }
      ]
    },
    {
      "cell_type": "markdown",
      "source": [
        "### Prediction"
      ],
      "metadata": {
        "id": "PsyOI2zYfd_g"
      }
    },
    {
      "cell_type": "code",
      "source": [
        "def cod_proba(seq, t1, t2):\n",
        "  if len(seq) == 0:\n",
        "    print('No sequence')\n",
        "    return None\n",
        "  prev_nuc = seq[0]\n",
        "  log_prob = np.log(t1['pos1'][prev_nuc])\n",
        "  for i, nuc in enumerate(seq[1:], 1):\n",
        "    pos = 'pos{}'.format(i % 3 + 1)\n",
        "    pair = '{}|{}'.format(nuc, prev_nuc)\n",
        "    log_prob += np.log(t2[pos][pair])\n",
        "    prev_nuc = nuc\n",
        "  return np.exp(log_prob)\n",
        "\n",
        "def ncod_proba(seq, t1, t2):\n",
        "  if len(seq) == 0:\n",
        "    print('No sequence')\n",
        "    return None\n",
        "  prev_nuc = seq[0]\n",
        "  log_prob = np.log(t1['nc'][prev_nuc])\n",
        "  for i, nuc in enumerate(seq[1:], 1):\n",
        "    pair = '{}|{}'.format(nuc, prev_nuc)\n",
        "    log_prob += np.log(t2['nc'][pair])\n",
        "    prev_nuc = nuc\n",
        "  return np.exp(log_prob)\n",
        "\n",
        "def get_cod_probs(seq, t1, t2):\n",
        "  prob1 = cod_proba(seq, t1, t2)\n",
        "  prob2 = cod_proba(seq[1:] + seq[:1], t1, t2)\n",
        "  prob3 = cod_proba(seq[2:] + seq[:2], t1, t2)\n",
        "  probnc = ncod_proba(seq, t1, t2)\n",
        "  return np.array([prob1, prob2, prob3] / (prob1 + prob2 + prob3 + probnc))"
      ],
      "metadata": {
        "id": "v3imen1Y0R3P"
      },
      "execution_count": 99,
      "outputs": []
    },
    {
      "cell_type": "code",
      "source": [
        "def plot_graph(data, start, end):\n",
        "  fig, (ax1, ax2, ax3) = plt.subplots(3, 1, figsize=(15, 15))\n",
        "\n",
        "  ax1.plot(pos_probs[:, 0], label='Codon position 1')\n",
        "  ax2.plot(pos_probs[:, 1], label='Codon position 2')\n",
        "  ax3.plot(pos_probs[:, 2], label='Codon position 3')\n",
        "\n",
        "  ax1.set_xticks()\n",
        "\n",
        "\n",
        "  plt.plot()"
      ],
      "metadata": {
        "id": "ZaK5pTK-tGlC"
      },
      "execution_count": null,
      "outputs": []
    },
    {
      "cell_type": "code",
      "source": [
        "def plot_graph(data, start, end, step):\n",
        "  fig, (ax1, ax2, ax3) = plt.subplots(3, 1, figsize=(15, 15))\n",
        "\n",
        "  x = range(start, end, step)\n",
        "\n",
        "  ax1.plot(x, data[:, 0])\n",
        "  ax2.plot(x, data[:, 1])\n",
        "  ax3.plot(x, data[:, 2])\n",
        "\n",
        "  ax1.set_title('Codon position 1')\n",
        "  ax2.set_title('Codon position 2')\n",
        "  ax3.set_title('Codon position 3')\n",
        "\n",
        "  plt.plot()\n",
        "\n",
        "\n",
        "start = 1100\n",
        "end = 1700\n",
        "step = 12\n",
        "window = 96\n",
        "pos_probs = []\n",
        "for i in range(start, end, step):\n",
        "\n",
        "  pos_probs.append(get_cod_probs(seq[start+i:start+window+i], t1, t2))\n",
        "pos_probs = np.array(pos_probs)\n",
        "\n",
        "plot_graph(pos_probs, start, end, step)"
      ],
      "metadata": {
        "id": "aZAlvds9qEAD",
        "outputId": "e9b7c1e6-cd7f-4a3a-e19f-fc795bae5e8d",
        "colab": {
          "base_uri": "https://localhost:8080/",
          "height": 879
        }
      },
      "execution_count": 144,
      "outputs": [
        {
          "output_type": "display_data",
          "data": {
            "text/plain": [
              "<Figure size 1080x1080 with 3 Axes>"
            ],
            "image/png": "[encoded data removed]"
          },
          "metadata": {
            "needs_background": "light"
          }
        }
      ]
    },
    {
      "cell_type": "code",
      "source": [],
      "metadata": {
        "id": "mObv2IRRr5Xz"
      },
      "execution_count": null,
      "outputs": []
    }
  ]
}