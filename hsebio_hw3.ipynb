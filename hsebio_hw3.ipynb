{
  "nbformat": 4,
  "nbformat_minor": 0,
  "metadata": {
    "colab": {
      "provenance": [],


      "authorship_tag": "ABX9TyM3XoHCxovt+6Vl0xt4Cr2z",

      "include_colab_link": true
    },
    "kernelspec": {
      "name": "python3",
      "display_name": "Python 3"
    },
    "language_info": {
      "name": "python"
    }
  },
  "cells": [
    {
      "cell_type": "markdown",
      "metadata": {
        "id": "view-in-github",
        "colab_type": "text"
      },
      "source": [
        "<a href=\"https://colab.research.google.com/github/efrsw/hsebio-hw3/blob/test/hsebio_hw3.ipynb\" target=\"_parent\"><img src=\"https://colab.research.google.com/assets/colab-badge.svg\" alt=\"Open In Colab\"/></a>"
        "<a href=\"https://colab.research.google.com/github/efrsw/hsebio-hw3/blob/Data-load-pipeline/hsebio_hw3.ipynb\" target=\"_parent\"><img src=\"https://colab.research.google.com/assets/colab-badge.svg\" alt=\"Open In Colab\"/></a>"

      ]
    },
    {
      "cell_type": "markdown",
      "source": [
        "### Загрузка данных"
      ],
      "metadata": {
        "id": "R25qwtEyVx2z"
      }
    },
    {
      "cell_type": "code",
      "execution_count": null,
      "metadata": {
        "id": "h06a6zdDVv1i"
      },
      "outputs": [],
      "source": [

        "print('Nice')"
        "print(\"Hello world!\")"

      ]
    }
  ]
}